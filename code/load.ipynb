{
 "cells": [
  {
   "cell_type": "code",
   "execution_count": 40,
   "id": "d2047dc04aefb35b",
   "metadata": {
    "collapsed": false,
    "ExecuteTime": {
     "end_time": "2024-04-10T14:44:50.821219900Z",
     "start_time": "2024-04-10T14:44:50.401536100Z"
    }
   },
   "outputs": [],
   "source": [
    "import pandas as pd"
   ]
  },
  {
   "cell_type": "code",
   "outputs": [],
   "source": [
    "dataPath = '../Classification Music/'"
   ],
   "metadata": {
    "collapsed": false,
    "ExecuteTime": {
     "end_time": "2024-04-10T14:44:51.826809700Z",
     "start_time": "2024-04-10T14:44:51.822871500Z"
    }
   },
   "id": "8ffe64d5f038c725",
   "execution_count": 41
  },
  {
   "cell_type": "code",
   "outputs": [
    {
     "data": {
      "text/plain": "['../Classification Music/GenreClassData_5s.txt',\n '../Classification Music/GenreClassData_10s.txt',\n '../Classification Music/GenreClassData_30s.txt']"
     },
     "execution_count": 45,
     "metadata": {},
     "output_type": "execute_result"
    }
   ],
   "source": [
    "filenames = [f'{dataPath}GenreClassData_{i}s.txt' for i in [5, 10, 30]]\n",
    "filenames"
   ],
   "metadata": {
    "collapsed": false,
    "ExecuteTime": {
     "end_time": "2024-04-10T14:46:43.345144600Z",
     "start_time": "2024-04-10T14:46:43.337992800Z"
    }
   },
   "id": "5c1df47634e45d26",
   "execution_count": 45
  },
  {
   "cell_type": "code",
   "outputs": [
    {
     "data": {
      "text/plain": "      Track ID            File  zero_cross_rate_mean  zero_cross_rate_std  \\\n0            0   pop_00072.wav              0.145551             0.037451   \n1            0   pop_00072.wav              0.142183             0.042302   \n2            0   pop_00072.wav              0.166341             0.083240   \n3            0   pop_00072.wav              0.102537             0.031382   \n4            0   pop_00072.wav              0.114493             0.028725   \n...        ...             ...                   ...                  ...   \n5935       997  jazz_00072.wav              0.066429             0.024516   \n5936       997  jazz_00072.wav              0.050194             0.012129   \n5937       997  jazz_00072.wav              0.051536             0.018633   \n5938       997  jazz_00072.wav              0.054943             0.012477   \n5939       997  jazz_00072.wav              0.057025             0.020349   \n\n      rmse_mean  rmse_var  spectral_centroid_mean  spectral_centroid_var  \\\n0      0.201554  0.028688             2863.732015             452.584007   \n1      0.202032  0.037592             2858.830340             480.446371   \n2      0.187266  0.060414             2935.345104             778.992798   \n3      0.240589  0.082133             2150.429917             587.897056   \n4      0.296563  0.036956             2310.485194             414.426753   \n...         ...       ...                     ...                    ...   \n5935   0.105621  0.045001             1415.755026             370.947666   \n5936   0.124787  0.072278             1259.175358             235.668207   \n5937   0.114068  0.055905             1235.477596             256.063458   \n5938   0.110220  0.063108             1351.658725             238.295105   \n5939   0.099304  0.065560             1315.775805             251.268042   \n\n      spectral_bandwidth_mean  spectral_bandwidth_var  ...  mfcc_6_std  \\\n0                 2740.471436              295.500065  ...    7.975465   \n1                 2758.699446              267.730197  ...    8.547901   \n2                 2688.226929              358.842715  ...    9.722525   \n3                 2307.956715              536.214859  ...   11.336458   \n4                 2456.257031              357.768598  ...    6.845205   \n...                       ...                     ...  ...         ...   \n5935              1562.778809              208.773986  ...    5.439083   \n5936              1534.375826              200.571756  ...   11.262802   \n5937              1519.350078              172.999759  ...   10.131796   \n5938              1570.821158              218.590786  ...   10.378718   \n5939              1573.491519              205.370605  ...   10.179310   \n\n      mfcc_7_std  mfcc_8_std  mfcc_9_std  mfcc_10_std  mfcc_11_std  \\\n0       9.560179    6.904463    6.030449     6.004714     5.124403   \n1      11.050330    6.610333    6.590199     6.881006     6.699643   \n2       9.740349    9.699237    7.311144     8.129169     7.800745   \n3       9.053881    7.538171    7.355865     7.754859     6.869428   \n4       9.098332    7.634520    6.579967     7.381236     6.205094   \n...          ...         ...         ...          ...          ...   \n5935    7.545431    6.573646    5.717455     4.688720     5.686013   \n5936    9.827319    7.790813    8.449103     9.494012     5.889364   \n5937    9.710893    8.221777    9.052814    10.262444     8.208709   \n5938    9.477270    7.809546   10.230217     9.917562     7.577555   \n5939    7.358216    6.770014    8.544379     8.347320     8.360598   \n\n      mfcc_12_std  GenreID  Genre   Type  \n0        5.069015        0    pop  Train  \n1        4.862863        0    pop  Train  \n2        8.989029        0    pop  Train  \n3        6.607519        0    pop  Train  \n4        6.591112        0    pop  Train  \n...           ...      ...    ...    ...  \n5935     4.152928        9   jazz   Test  \n5936     7.563084        9   jazz   Test  \n5937     7.315394        9   jazz   Test  \n5938     6.923673        9   jazz   Test  \n5939     7.358258        9   jazz   Test  \n\n[5940 rows x 68 columns]",
      "text/html": "<div>\n<style scoped>\n    .dataframe tbody tr th:only-of-type {\n        vertical-align: middle;\n    }\n\n    .dataframe tbody tr th {\n        vertical-align: top;\n    }\n\n    .dataframe thead th {\n        text-align: right;\n    }\n</style>\n<table border=\"1\" class=\"dataframe\">\n  <thead>\n    <tr style=\"text-align: right;\">\n      <th></th>\n      <th>Track ID</th>\n      <th>File</th>\n      <th>zero_cross_rate_mean</th>\n      <th>zero_cross_rate_std</th>\n      <th>rmse_mean</th>\n      <th>rmse_var</th>\n      <th>spectral_centroid_mean</th>\n      <th>spectral_centroid_var</th>\n      <th>spectral_bandwidth_mean</th>\n      <th>spectral_bandwidth_var</th>\n      <th>...</th>\n      <th>mfcc_6_std</th>\n      <th>mfcc_7_std</th>\n      <th>mfcc_8_std</th>\n      <th>mfcc_9_std</th>\n      <th>mfcc_10_std</th>\n      <th>mfcc_11_std</th>\n      <th>mfcc_12_std</th>\n      <th>GenreID</th>\n      <th>Genre</th>\n      <th>Type</th>\n    </tr>\n  </thead>\n  <tbody>\n    <tr>\n      <th>0</th>\n      <td>0</td>\n      <td>pop_00072.wav</td>\n      <td>0.145551</td>\n      <td>0.037451</td>\n      <td>0.201554</td>\n      <td>0.028688</td>\n      <td>2863.732015</td>\n      <td>452.584007</td>\n      <td>2740.471436</td>\n      <td>295.500065</td>\n      <td>...</td>\n      <td>7.975465</td>\n      <td>9.560179</td>\n      <td>6.904463</td>\n      <td>6.030449</td>\n      <td>6.004714</td>\n      <td>5.124403</td>\n      <td>5.069015</td>\n      <td>0</td>\n      <td>pop</td>\n      <td>Train</td>\n    </tr>\n    <tr>\n      <th>1</th>\n      <td>0</td>\n      <td>pop_00072.wav</td>\n      <td>0.142183</td>\n      <td>0.042302</td>\n      <td>0.202032</td>\n      <td>0.037592</td>\n      <td>2858.830340</td>\n      <td>480.446371</td>\n      <td>2758.699446</td>\n      <td>267.730197</td>\n      <td>...</td>\n      <td>8.547901</td>\n      <td>11.050330</td>\n      <td>6.610333</td>\n      <td>6.590199</td>\n      <td>6.881006</td>\n      <td>6.699643</td>\n      <td>4.862863</td>\n      <td>0</td>\n      <td>pop</td>\n      <td>Train</td>\n    </tr>\n    <tr>\n      <th>2</th>\n      <td>0</td>\n      <td>pop_00072.wav</td>\n      <td>0.166341</td>\n      <td>0.083240</td>\n      <td>0.187266</td>\n      <td>0.060414</td>\n      <td>2935.345104</td>\n      <td>778.992798</td>\n      <td>2688.226929</td>\n      <td>358.842715</td>\n      <td>...</td>\n      <td>9.722525</td>\n      <td>9.740349</td>\n      <td>9.699237</td>\n      <td>7.311144</td>\n      <td>8.129169</td>\n      <td>7.800745</td>\n      <td>8.989029</td>\n      <td>0</td>\n      <td>pop</td>\n      <td>Train</td>\n    </tr>\n    <tr>\n      <th>3</th>\n      <td>0</td>\n      <td>pop_00072.wav</td>\n      <td>0.102537</td>\n      <td>0.031382</td>\n      <td>0.240589</td>\n      <td>0.082133</td>\n      <td>2150.429917</td>\n      <td>587.897056</td>\n      <td>2307.956715</td>\n      <td>536.214859</td>\n      <td>...</td>\n      <td>11.336458</td>\n      <td>9.053881</td>\n      <td>7.538171</td>\n      <td>7.355865</td>\n      <td>7.754859</td>\n      <td>6.869428</td>\n      <td>6.607519</td>\n      <td>0</td>\n      <td>pop</td>\n      <td>Train</td>\n    </tr>\n    <tr>\n      <th>4</th>\n      <td>0</td>\n      <td>pop_00072.wav</td>\n      <td>0.114493</td>\n      <td>0.028725</td>\n      <td>0.296563</td>\n      <td>0.036956</td>\n      <td>2310.485194</td>\n      <td>414.426753</td>\n      <td>2456.257031</td>\n      <td>357.768598</td>\n      <td>...</td>\n      <td>6.845205</td>\n      <td>9.098332</td>\n      <td>7.634520</td>\n      <td>6.579967</td>\n      <td>7.381236</td>\n      <td>6.205094</td>\n      <td>6.591112</td>\n      <td>0</td>\n      <td>pop</td>\n      <td>Train</td>\n    </tr>\n    <tr>\n      <th>...</th>\n      <td>...</td>\n      <td>...</td>\n      <td>...</td>\n      <td>...</td>\n      <td>...</td>\n      <td>...</td>\n      <td>...</td>\n      <td>...</td>\n      <td>...</td>\n      <td>...</td>\n      <td>...</td>\n      <td>...</td>\n      <td>...</td>\n      <td>...</td>\n      <td>...</td>\n      <td>...</td>\n      <td>...</td>\n      <td>...</td>\n      <td>...</td>\n      <td>...</td>\n      <td>...</td>\n    </tr>\n    <tr>\n      <th>5935</th>\n      <td>997</td>\n      <td>jazz_00072.wav</td>\n      <td>0.066429</td>\n      <td>0.024516</td>\n      <td>0.105621</td>\n      <td>0.045001</td>\n      <td>1415.755026</td>\n      <td>370.947666</td>\n      <td>1562.778809</td>\n      <td>208.773986</td>\n      <td>...</td>\n      <td>5.439083</td>\n      <td>7.545431</td>\n      <td>6.573646</td>\n      <td>5.717455</td>\n      <td>4.688720</td>\n      <td>5.686013</td>\n      <td>4.152928</td>\n      <td>9</td>\n      <td>jazz</td>\n      <td>Test</td>\n    </tr>\n    <tr>\n      <th>5936</th>\n      <td>997</td>\n      <td>jazz_00072.wav</td>\n      <td>0.050194</td>\n      <td>0.012129</td>\n      <td>0.124787</td>\n      <td>0.072278</td>\n      <td>1259.175358</td>\n      <td>235.668207</td>\n      <td>1534.375826</td>\n      <td>200.571756</td>\n      <td>...</td>\n      <td>11.262802</td>\n      <td>9.827319</td>\n      <td>7.790813</td>\n      <td>8.449103</td>\n      <td>9.494012</td>\n      <td>5.889364</td>\n      <td>7.563084</td>\n      <td>9</td>\n      <td>jazz</td>\n      <td>Test</td>\n    </tr>\n    <tr>\n      <th>5937</th>\n      <td>997</td>\n      <td>jazz_00072.wav</td>\n      <td>0.051536</td>\n      <td>0.018633</td>\n      <td>0.114068</td>\n      <td>0.055905</td>\n      <td>1235.477596</td>\n      <td>256.063458</td>\n      <td>1519.350078</td>\n      <td>172.999759</td>\n      <td>...</td>\n      <td>10.131796</td>\n      <td>9.710893</td>\n      <td>8.221777</td>\n      <td>9.052814</td>\n      <td>10.262444</td>\n      <td>8.208709</td>\n      <td>7.315394</td>\n      <td>9</td>\n      <td>jazz</td>\n      <td>Test</td>\n    </tr>\n    <tr>\n      <th>5938</th>\n      <td>997</td>\n      <td>jazz_00072.wav</td>\n      <td>0.054943</td>\n      <td>0.012477</td>\n      <td>0.110220</td>\n      <td>0.063108</td>\n      <td>1351.658725</td>\n      <td>238.295105</td>\n      <td>1570.821158</td>\n      <td>218.590786</td>\n      <td>...</td>\n      <td>10.378718</td>\n      <td>9.477270</td>\n      <td>7.809546</td>\n      <td>10.230217</td>\n      <td>9.917562</td>\n      <td>7.577555</td>\n      <td>6.923673</td>\n      <td>9</td>\n      <td>jazz</td>\n      <td>Test</td>\n    </tr>\n    <tr>\n      <th>5939</th>\n      <td>997</td>\n      <td>jazz_00072.wav</td>\n      <td>0.057025</td>\n      <td>0.020349</td>\n      <td>0.099304</td>\n      <td>0.065560</td>\n      <td>1315.775805</td>\n      <td>251.268042</td>\n      <td>1573.491519</td>\n      <td>205.370605</td>\n      <td>...</td>\n      <td>10.179310</td>\n      <td>7.358216</td>\n      <td>6.770014</td>\n      <td>8.544379</td>\n      <td>8.347320</td>\n      <td>8.360598</td>\n      <td>7.358258</td>\n      <td>9</td>\n      <td>jazz</td>\n      <td>Test</td>\n    </tr>\n  </tbody>\n</table>\n<p>5940 rows × 68 columns</p>\n</div>"
     },
     "execution_count": 47,
     "metadata": {},
     "output_type": "execute_result"
    }
   ],
   "source": [
    "df5s = pd.read_csv(filenames[0], sep='\\t')\n",
    "df10s = pd.read_csv(filenames[0], sep='\\t')\n",
    "df30s = pd.read_csv(filenames[0], sep='\\t')"
   ],
   "metadata": {
    "collapsed": false,
    "ExecuteTime": {
     "end_time": "2024-04-10T14:47:36.891185500Z",
     "start_time": "2024-04-10T14:47:36.712762600Z"
    }
   },
   "id": "164ac8bc859966b6",
   "execution_count": 47
  },
  {
   "cell_type": "code",
   "outputs": [],
   "source": [],
   "metadata": {
    "collapsed": false
   },
   "id": "e809ece4f46b9d80"
  }
 ],
 "metadata": {
  "kernelspec": {
   "display_name": "Python 3",
   "language": "python",
   "name": "python3"
  },
  "language_info": {
   "codemirror_mode": {
    "name": "ipython",
    "version": 2
   },
   "file_extension": ".py",
   "mimetype": "text/x-python",
   "name": "python",
   "nbconvert_exporter": "python",
   "pygments_lexer": "ipython2",
   "version": "2.7.6"
  }
 },
 "nbformat": 4,
 "nbformat_minor": 5
}
