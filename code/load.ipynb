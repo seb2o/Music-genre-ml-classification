{
 "cells": [
  {
   "cell_type": "code",
   "execution_count": 1,
   "id": "d2047dc04aefb35b",
   "metadata": {
    "collapsed": false,
    "ExecuteTime": {
     "end_time": "2024-04-10T16:39:24.012010900Z",
     "start_time": "2024-04-10T16:39:23.712109700Z"
    }
   },
   "outputs": [],
   "source": [
    "import pandas as pd"
   ]
  },
  {
   "cell_type": "code",
   "outputs": [],
   "source": [
    "dataPath = '../Classification Music/'\n",
    "firstFeatures = [\"spectral_rolloff_mean\", \"mfcc_1_mean\", \"spectral_centroid_mean\", \"tempo\", \"Genre\"]\n",
    "firstClasses = [\"pop\", \"disco\", \"metal\", \"classical\"]"
   ],
   "metadata": {
    "collapsed": false,
    "ExecuteTime": {
     "end_time": "2024-04-10T16:39:24.017483600Z",
     "start_time": "2024-04-10T16:39:24.013256Z"
    }
   },
   "id": "8ffe64d5f038c725",
   "execution_count": 2
  },
  {
   "cell_type": "code",
   "outputs": [
    {
     "data": {
      "text/plain": "['../Classification Music/GenreClassData_5s.txt',\n '../Classification Music/GenreClassData_10s.txt',\n '../Classification Music/GenreClassData_30s.txt']"
     },
     "execution_count": 3,
     "metadata": {},
     "output_type": "execute_result"
    }
   ],
   "source": [
    "filenames = [f'{dataPath}GenreClassData_{i}s.txt' for i in [5, 10, 30]]\n",
    "filenames"
   ],
   "metadata": {
    "collapsed": false,
    "ExecuteTime": {
     "end_time": "2024-04-10T16:39:24.033527800Z",
     "start_time": "2024-04-10T16:39:24.017483600Z"
    }
   },
   "id": "5c1df47634e45d26",
   "execution_count": 3
  },
  {
   "cell_type": "code",
   "outputs": [
    {
     "data": {
      "text/plain": "      spectral_rolloff_mean  mfcc_1_mean  spectral_centroid_mean       tempo  \\\n0               6102.519735    13.814828             2863.732015  117.453835   \n1               6054.369100     6.227685             2858.830340  117.453835   \n2               6015.788778    -6.175699             2935.345104  117.453835   \n3               4455.628459   -12.475326             2150.429917  117.453835   \n4               4768.707275    34.618626             2310.485194  117.453835   \n...                     ...          ...                     ...         ...   \n5935            2873.685710  -160.301834             1415.755026  107.666016   \n5936            2549.142456  -227.898956             1259.175358  107.666016   \n5937            2556.619263  -222.895691             1235.477596  107.666016   \n5938            2785.509237  -231.428940             1351.658725  107.666016   \n5939            2764.723714  -217.899841             1315.775805  107.666016   \n\n     Genre  \n0      pop  \n1      pop  \n2      pop  \n3      pop  \n4      pop  \n...    ...  \n5935  jazz  \n5936  jazz  \n5937  jazz  \n5938  jazz  \n5939  jazz  \n\n[5940 rows x 5 columns]",
      "text/html": "<div>\n<style scoped>\n    .dataframe tbody tr th:only-of-type {\n        vertical-align: middle;\n    }\n\n    .dataframe tbody tr th {\n        vertical-align: top;\n    }\n\n    .dataframe thead th {\n        text-align: right;\n    }\n</style>\n<table border=\"1\" class=\"dataframe\">\n  <thead>\n    <tr style=\"text-align: right;\">\n      <th></th>\n      <th>spectral_rolloff_mean</th>\n      <th>mfcc_1_mean</th>\n      <th>spectral_centroid_mean</th>\n      <th>tempo</th>\n      <th>Genre</th>\n    </tr>\n  </thead>\n  <tbody>\n    <tr>\n      <th>0</th>\n      <td>6102.519735</td>\n      <td>13.814828</td>\n      <td>2863.732015</td>\n      <td>117.453835</td>\n      <td>pop</td>\n    </tr>\n    <tr>\n      <th>1</th>\n      <td>6054.369100</td>\n      <td>6.227685</td>\n      <td>2858.830340</td>\n      <td>117.453835</td>\n      <td>pop</td>\n    </tr>\n    <tr>\n      <th>2</th>\n      <td>6015.788778</td>\n      <td>-6.175699</td>\n      <td>2935.345104</td>\n      <td>117.453835</td>\n      <td>pop</td>\n    </tr>\n    <tr>\n      <th>3</th>\n      <td>4455.628459</td>\n      <td>-12.475326</td>\n      <td>2150.429917</td>\n      <td>117.453835</td>\n      <td>pop</td>\n    </tr>\n    <tr>\n      <th>4</th>\n      <td>4768.707275</td>\n      <td>34.618626</td>\n      <td>2310.485194</td>\n      <td>117.453835</td>\n      <td>pop</td>\n    </tr>\n    <tr>\n      <th>...</th>\n      <td>...</td>\n      <td>...</td>\n      <td>...</td>\n      <td>...</td>\n      <td>...</td>\n    </tr>\n    <tr>\n      <th>5935</th>\n      <td>2873.685710</td>\n      <td>-160.301834</td>\n      <td>1415.755026</td>\n      <td>107.666016</td>\n      <td>jazz</td>\n    </tr>\n    <tr>\n      <th>5936</th>\n      <td>2549.142456</td>\n      <td>-227.898956</td>\n      <td>1259.175358</td>\n      <td>107.666016</td>\n      <td>jazz</td>\n    </tr>\n    <tr>\n      <th>5937</th>\n      <td>2556.619263</td>\n      <td>-222.895691</td>\n      <td>1235.477596</td>\n      <td>107.666016</td>\n      <td>jazz</td>\n    </tr>\n    <tr>\n      <th>5938</th>\n      <td>2785.509237</td>\n      <td>-231.428940</td>\n      <td>1351.658725</td>\n      <td>107.666016</td>\n      <td>jazz</td>\n    </tr>\n    <tr>\n      <th>5939</th>\n      <td>2764.723714</td>\n      <td>-217.899841</td>\n      <td>1315.775805</td>\n      <td>107.666016</td>\n      <td>jazz</td>\n    </tr>\n  </tbody>\n</table>\n<p>5940 rows × 5 columns</p>\n</div>"
     },
     "execution_count": 4,
     "metadata": {},
     "output_type": "execute_result"
    }
   ],
   "source": [
    "df5s = pd.read_csv(filenames[0], sep='\\t')\n",
    "df10s = pd.read_csv(filenames[0], sep='\\t')\n",
    "df30s = pd.read_csv(filenames[0], sep='\\t')\n",
    "df30s[firstFeatures]"
   ],
   "metadata": {
    "collapsed": false,
    "ExecuteTime": {
     "end_time": "2024-04-10T16:39:24.212080300Z",
     "start_time": "2024-04-10T16:39:24.032518700Z"
    }
   },
   "id": "164ac8bc859966b6",
   "execution_count": 4
  },
  {
   "cell_type": "code",
   "outputs": [],
   "source": [
    "dfGenre = df30s[firstFeatures].groupby(\"Genre\")"
   ],
   "metadata": {
    "collapsed": false,
    "ExecuteTime": {
     "end_time": "2024-04-10T16:39:24.216219500Z",
     "start_time": "2024-04-10T16:39:24.212080300Z"
    }
   },
   "id": "e809ece4f46b9d80",
   "execution_count": 5
  },
  {
   "cell_type": "code",
   "outputs": [
    {
     "data": {
      "text/plain": "                                       spectral_rolloff_mean  \\\nGenre                                                          \nblues      [2182.03125, 4460.0148518880205, 4691.24755859...   \nclassical  [1921.240234375, 2489.826456705729, 1957.52766...   \ncountry    [3779.176839192709, 3638.4134928385415, 3972.6...   \ndisco      [5838.090006510417, 6454.079182942708, 6148.92...   \nhiphop     [5824.232991536458, 6165.9230550130205, 5761.4...   \njazz       [3390.582275390625, 3316.362508138021, 3347.01...   \nmetal      [4167.5221761067705, 4516.6392008463545, 3975....   \npop        [6102.5197347005205, 6054.369099934896, 6015.7...   \nreggae     [4630.58573404948, 4673.0539957682295, 4896.31...   \nrock       [4950.941975911458, 4488.077799479167, 4766.56...   \n\n                                                 mfcc_1_mean  \\\nGenre                                                          \nblues      [-229.3531188964844, -160.58453369140625, -195...   \nclassical  [-364.0384826660156, -354.7481689453125, -292....   \ncountry    [-355.7009582519531, -312.0896301269531, -313....   \ndisco      [-47.48040390014648, -57.20918273925781, -59.2...   \nhiphop     [-20.65100479125977, -14.081467628479004, -28....   \njazz       [-157.76820373535156, -205.02491760253903, -21...   \nmetal      [-116.19397735595705, -148.67752075195312, -15...   \npop        [13.814827919006348, 6.227685451507568, -6.175...   \nreggae     [-62.07311630249024, -69.8798599243164, -74.48...   \nrock       [-67.08412170410156, -53.94455337524414, -34.7...   \n\n                                      spectral_centroid_mean  \\\nGenre                                                          \nblues      [1148.5115750904342, 2444.016540841468, 2491.9...   \nclassical  [1078.0234762486964, 1356.290979043336, 1050.0...   \ncountry    [1790.9674770381305, 1829.4069796071092, 1974....   \ndisco      [2881.9977794035944, 3321.217611719629, 3161.5...   \nhiphop     [2766.147005069424, 2858.258450629484, 2685.28...   \njazz       [1841.9765731956525, 1663.1018957864924, 1651....   \nmetal      [1971.301833308286, 2084.8452091888234, 1843.7...   \npop        [2863.732014631172, 2858.830339800058, 2935.34...   \nreggae     [2062.188584003743, 2052.051783487036, 2200.01...   \nrock       [2322.911326855456, 2242.065131743566, 2383.53...   \n\n                                                       tempo  \nGenre                                                         \nblues      [67.99958881578948, 107.666015625, 112.3471467...  \nclassical  [123.046875, 123.046875, 112.34714673913044, 1...  \ncountry    [117.45383522727272, 123.046875, 117.453835227...  \ndisco      [129.19921875, 129.19921875, 129.19921875, 129...  \nhiphop     [117.45383522727272, 117.45383522727272, 117.4...  \njazz       [151.99908088235293, 151.99908088235293, 151.9...  \nmetal      [117.45383522727272, 117.45383522727272, 117.4...  \npop        [117.45383522727272, 117.45383522727272, 117.4...  \nreggae     [143.5546875, 143.5546875, 143.5546875, 95.703...  \nrock       [129.19921875, 129.19921875, 135.9991776315789...  ",
      "text/html": "<div>\n<style scoped>\n    .dataframe tbody tr th:only-of-type {\n        vertical-align: middle;\n    }\n\n    .dataframe tbody tr th {\n        vertical-align: top;\n    }\n\n    .dataframe thead th {\n        text-align: right;\n    }\n</style>\n<table border=\"1\" class=\"dataframe\">\n  <thead>\n    <tr style=\"text-align: right;\">\n      <th></th>\n      <th>spectral_rolloff_mean</th>\n      <th>mfcc_1_mean</th>\n      <th>spectral_centroid_mean</th>\n      <th>tempo</th>\n    </tr>\n    <tr>\n      <th>Genre</th>\n      <th></th>\n      <th></th>\n      <th></th>\n      <th></th>\n    </tr>\n  </thead>\n  <tbody>\n    <tr>\n      <th>blues</th>\n      <td>[2182.03125, 4460.0148518880205, 4691.24755859...</td>\n      <td>[-229.3531188964844, -160.58453369140625, -195...</td>\n      <td>[1148.5115750904342, 2444.016540841468, 2491.9...</td>\n      <td>[67.99958881578948, 107.666015625, 112.3471467...</td>\n    </tr>\n    <tr>\n      <th>classical</th>\n      <td>[1921.240234375, 2489.826456705729, 1957.52766...</td>\n      <td>[-364.0384826660156, -354.7481689453125, -292....</td>\n      <td>[1078.0234762486964, 1356.290979043336, 1050.0...</td>\n      <td>[123.046875, 123.046875, 112.34714673913044, 1...</td>\n    </tr>\n    <tr>\n      <th>country</th>\n      <td>[3779.176839192709, 3638.4134928385415, 3972.6...</td>\n      <td>[-355.7009582519531, -312.0896301269531, -313....</td>\n      <td>[1790.9674770381305, 1829.4069796071092, 1974....</td>\n      <td>[117.45383522727272, 123.046875, 117.453835227...</td>\n    </tr>\n    <tr>\n      <th>disco</th>\n      <td>[5838.090006510417, 6454.079182942708, 6148.92...</td>\n      <td>[-47.48040390014648, -57.20918273925781, -59.2...</td>\n      <td>[2881.9977794035944, 3321.217611719629, 3161.5...</td>\n      <td>[129.19921875, 129.19921875, 129.19921875, 129...</td>\n    </tr>\n    <tr>\n      <th>hiphop</th>\n      <td>[5824.232991536458, 6165.9230550130205, 5761.4...</td>\n      <td>[-20.65100479125977, -14.081467628479004, -28....</td>\n      <td>[2766.147005069424, 2858.258450629484, 2685.28...</td>\n      <td>[117.45383522727272, 117.45383522727272, 117.4...</td>\n    </tr>\n    <tr>\n      <th>jazz</th>\n      <td>[3390.582275390625, 3316.362508138021, 3347.01...</td>\n      <td>[-157.76820373535156, -205.02491760253903, -21...</td>\n      <td>[1841.9765731956525, 1663.1018957864924, 1651....</td>\n      <td>[151.99908088235293, 151.99908088235293, 151.9...</td>\n    </tr>\n    <tr>\n      <th>metal</th>\n      <td>[4167.5221761067705, 4516.6392008463545, 3975....</td>\n      <td>[-116.19397735595705, -148.67752075195312, -15...</td>\n      <td>[1971.301833308286, 2084.8452091888234, 1843.7...</td>\n      <td>[117.45383522727272, 117.45383522727272, 117.4...</td>\n    </tr>\n    <tr>\n      <th>pop</th>\n      <td>[6102.5197347005205, 6054.369099934896, 6015.7...</td>\n      <td>[13.814827919006348, 6.227685451507568, -6.175...</td>\n      <td>[2863.732014631172, 2858.830339800058, 2935.34...</td>\n      <td>[117.45383522727272, 117.45383522727272, 117.4...</td>\n    </tr>\n    <tr>\n      <th>reggae</th>\n      <td>[4630.58573404948, 4673.0539957682295, 4896.31...</td>\n      <td>[-62.07311630249024, -69.8798599243164, -74.48...</td>\n      <td>[2062.188584003743, 2052.051783487036, 2200.01...</td>\n      <td>[143.5546875, 143.5546875, 143.5546875, 95.703...</td>\n    </tr>\n    <tr>\n      <th>rock</th>\n      <td>[4950.941975911458, 4488.077799479167, 4766.56...</td>\n      <td>[-67.08412170410156, -53.94455337524414, -34.7...</td>\n      <td>[2322.911326855456, 2242.065131743566, 2383.53...</td>\n      <td>[129.19921875, 129.19921875, 135.9991776315789...</td>\n    </tr>\n  </tbody>\n</table>\n</div>"
     },
     "execution_count": 6,
     "metadata": {},
     "output_type": "execute_result"
    }
   ],
   "source": [
    "dfGenre = dfGenre.agg(list)\n",
    "dfGenre"
   ],
   "metadata": {
    "collapsed": false,
    "ExecuteTime": {
     "end_time": "2024-04-10T16:39:24.280733900Z",
     "start_time": "2024-04-10T16:39:24.217228200Z"
    }
   },
   "id": "405252e6afd932f8",
   "execution_count": 6
  },
  {
   "cell_type": "code",
   "outputs": [
    {
     "data": {
      "text/plain": "                                       spectral_rolloff_mean  \\\nGenre                                                          \npop        [6102.5197347005205, 6054.369099934896, 6015.7...   \ndisco      [5838.090006510417, 6454.079182942708, 6148.92...   \nmetal      [4167.5221761067705, 4516.6392008463545, 3975....   \nclassical  [1921.240234375, 2489.826456705729, 1957.52766...   \n\n                                                 mfcc_1_mean  \\\nGenre                                                          \npop        [13.814827919006348, 6.227685451507568, -6.175...   \ndisco      [-47.48040390014648, -57.20918273925781, -59.2...   \nmetal      [-116.19397735595705, -148.67752075195312, -15...   \nclassical  [-364.0384826660156, -354.7481689453125, -292....   \n\n                                      spectral_centroid_mean  \\\nGenre                                                          \npop        [2863.732014631172, 2858.830339800058, 2935.34...   \ndisco      [2881.9977794035944, 3321.217611719629, 3161.5...   \nmetal      [1971.301833308286, 2084.8452091888234, 1843.7...   \nclassical  [1078.0234762486964, 1356.290979043336, 1050.0...   \n\n                                                       tempo  \nGenre                                                         \npop        [117.45383522727272, 117.45383522727272, 117.4...  \ndisco      [129.19921875, 129.19921875, 129.19921875, 129...  \nmetal      [117.45383522727272, 117.45383522727272, 117.4...  \nclassical  [123.046875, 123.046875, 112.34714673913044, 1...  ",
      "text/html": "<div>\n<style scoped>\n    .dataframe tbody tr th:only-of-type {\n        vertical-align: middle;\n    }\n\n    .dataframe tbody tr th {\n        vertical-align: top;\n    }\n\n    .dataframe thead th {\n        text-align: right;\n    }\n</style>\n<table border=\"1\" class=\"dataframe\">\n  <thead>\n    <tr style=\"text-align: right;\">\n      <th></th>\n      <th>spectral_rolloff_mean</th>\n      <th>mfcc_1_mean</th>\n      <th>spectral_centroid_mean</th>\n      <th>tempo</th>\n    </tr>\n    <tr>\n      <th>Genre</th>\n      <th></th>\n      <th></th>\n      <th></th>\n      <th></th>\n    </tr>\n  </thead>\n  <tbody>\n    <tr>\n      <th>pop</th>\n      <td>[6102.5197347005205, 6054.369099934896, 6015.7...</td>\n      <td>[13.814827919006348, 6.227685451507568, -6.175...</td>\n      <td>[2863.732014631172, 2858.830339800058, 2935.34...</td>\n      <td>[117.45383522727272, 117.45383522727272, 117.4...</td>\n    </tr>\n    <tr>\n      <th>disco</th>\n      <td>[5838.090006510417, 6454.079182942708, 6148.92...</td>\n      <td>[-47.48040390014648, -57.20918273925781, -59.2...</td>\n      <td>[2881.9977794035944, 3321.217611719629, 3161.5...</td>\n      <td>[129.19921875, 129.19921875, 129.19921875, 129...</td>\n    </tr>\n    <tr>\n      <th>metal</th>\n      <td>[4167.5221761067705, 4516.6392008463545, 3975....</td>\n      <td>[-116.19397735595705, -148.67752075195312, -15...</td>\n      <td>[1971.301833308286, 2084.8452091888234, 1843.7...</td>\n      <td>[117.45383522727272, 117.45383522727272, 117.4...</td>\n    </tr>\n    <tr>\n      <th>classical</th>\n      <td>[1921.240234375, 2489.826456705729, 1957.52766...</td>\n      <td>[-364.0384826660156, -354.7481689453125, -292....</td>\n      <td>[1078.0234762486964, 1356.290979043336, 1050.0...</td>\n      <td>[123.046875, 123.046875, 112.34714673913044, 1...</td>\n    </tr>\n  </tbody>\n</table>\n</div>"
     },
     "execution_count": 7,
     "metadata": {},
     "output_type": "execute_result"
    }
   ],
   "source": [
    "dfGenre = dfGenre.loc[firstClasses]\n",
    "dfGenre"
   ],
   "metadata": {
    "collapsed": false,
    "ExecuteTime": {
     "end_time": "2024-04-10T16:39:24.282674100Z",
     "start_time": "2024-04-10T16:39:24.253742Z"
    }
   },
   "id": "bfd5ba007d15244b",
   "execution_count": 7
  },
  {
   "cell_type": "code",
   "outputs": [
    {
     "name": "stdout",
     "output_type": "stream",
     "text": [
      "Stored 'dfGenre' (DataFrame)\n"
     ]
    }
   ],
   "source": [
    "%store dfGenre"
   ],
   "metadata": {
    "collapsed": false,
    "ExecuteTime": {
     "end_time": "2024-04-10T16:47:26.193132400Z",
     "start_time": "2024-04-10T16:47:26.178622600Z"
    }
   },
   "id": "436c918655f19e26",
   "execution_count": 10
  },
  {
   "cell_type": "code",
   "outputs": [
    {
     "name": "stdout",
     "output_type": "stream",
     "text": [
      "Stored 'df30s' (DataFrame)\n"
     ]
    }
   ],
   "source": [
    "%store df30s"
   ],
   "metadata": {
    "collapsed": false,
    "ExecuteTime": {
     "end_time": "2024-04-10T16:47:35.905308Z",
     "start_time": "2024-04-10T16:47:35.872300500Z"
    }
   },
   "id": "82019528e8a76e4d",
   "execution_count": 11
  }
 ],
 "metadata": {
  "kernelspec": {
   "display_name": "Python 3",
   "language": "python",
   "name": "python3"
  },
  "language_info": {
   "codemirror_mode": {
    "name": "ipython",
    "version": 2
   },
   "file_extension": ".py",
   "mimetype": "text/x-python",
   "name": "python",
   "nbconvert_exporter": "python",
   "pygments_lexer": "ipython2",
   "version": "2.7.6"
  }
 },
 "nbformat": 4,
 "nbformat_minor": 5
}
