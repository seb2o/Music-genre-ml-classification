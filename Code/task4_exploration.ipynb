{
 "cells": [
  {
   "cell_type": "markdown",
   "id": "86662550",
   "metadata": {},
   "source": [
    "# Task 4 Exploration"
   ]
  },
  {
   "cell_type": "code",
   "execution_count": 10,
   "id": "06fcd416",
   "metadata": {
    "ExecuteTime": {
     "end_time": "2024-04-20T10:17:44.290224Z",
     "start_time": "2024-04-20T10:17:43.999639Z"
    }
   },
   "outputs": [],
   "source": [
    "import pandas as pd\n",
    "import numpy as np\n",
    "import matplotlib.pyplot as plt\n",
    "from sklearn.preprocessing import StandardScaler\n",
    "from tensorflow.keras import layers, models, callbacks, metrics, regularizers\n",
    "from tensorflow.keras.layers import Concatenate, Input\n",
    "\n",
    "def load_and_combine_data(filenames):\n",
    "    data_frames = []\n",
    "    for file in filenames:\n",
    "        df = pd.read_csv(file, sep='\\t')\n",
    "        data_frames.append(df)\n",
    "    combined_df = pd.concat(data_frames, ignore_index=True)\n",
    "    return combined_df\n",
    "\n",
    "def train_val_split(df, type_col='Type', target_col='GenreID'):\n",
    "    train_data = df[df[type_col] == 'Train']\n",
    "    test_data = df[df[type_col] == 'Test']\n",
    "    X_train = train_data.drop([type_col, target_col], axis=1)\n",
    "    y_train = train_data[target_col]\n",
    "    X_test = test_data.drop([type_col, target_col], axis=1)\n",
    "    y_test = test_data[target_col]\n",
    "    \n",
    "    scaler = StandardScaler()\n",
    "    X_train_scaled = scaler.fit_transform(X_train)\n",
    "    X_test_scaled = scaler.transform(X_test)\n",
    "    \n",
    "    return X_train_scaled, y_train, X_test_scaled, y_test"
   ]
  },
  {
   "cell_type": "markdown",
   "id": "d6042a09",
   "metadata": {},
   "source": [
    "Step 1: choose which dataset to include (include path)"
   ]
  },
  {
   "cell_type": "code",
   "execution_count": 11,
   "id": "3cca6a0c",
   "metadata": {
    "ExecuteTime": {
     "end_time": "2024-04-20T10:17:44.311085900Z",
     "start_time": "2024-04-20T10:17:44.292674600Z"
    }
   },
   "outputs": [],
   "source": [
    "data_paths = [\n",
    "    '../Classification Music/GenreClassData_10s.txt',\n",
    "    '../Classification Music/GenreClassData_30s.txt',\n",
    "    '../Classification Music/GenreClassData_5s.txt'\n",
    "] "
   ]
  },
  {
   "cell_type": "markdown",
   "id": "2b1b7f03",
   "metadata": {},
   "source": [
    "Step 2: load and prepare data"
   ]
  },
  {
   "cell_type": "code",
   "execution_count": 12,
   "id": "63dea406",
   "metadata": {
    "ExecuteTime": {
     "end_time": "2024-04-20T10:17:44.448533600Z",
     "start_time": "2024-04-20T10:17:44.301020500Z"
    }
   },
   "outputs": [
    {
     "name": "stdout",
     "output_type": "stream",
     "text": [
      "Combined Dataframe shape: (9900, 65)\n"
     ]
    }
   ],
   "source": [
    "df = load_and_combine_data(data_paths)\n",
    "feature_columns = [col for col in df.columns if col not in ['Type', 'GenreID', 'Genre', 'Track ID', 'File']]\n",
    "\n",
    "df = df[['Type', 'GenreID'] + feature_columns] # keeping only relevent columns\n",
    "\n",
    "print(\"Combined Dataframe shape:\", df.shape) \n",
    "\n",
    "X_train_scaled, y_train, X_test_scaled, y_test = train_val_split(df)"
   ]
  },
  {
   "cell_type": "markdown",
   "id": "9ff74e49",
   "metadata": {},
   "source": [
    "# 1. Fully Connected Neural Network (FCNN) Section"
   ]
  },
  {
   "cell_type": "markdown",
   "id": "17ecb83f",
   "metadata": {},
   "source": [
    "### 1.1 Create FCNN model"
   ]
  },
  {
   "cell_type": "code",
   "execution_count": 13,
   "id": "4d595e6d",
   "metadata": {
    "ExecuteTime": {
     "end_time": "2024-04-20T10:17:44.531063500Z",
     "start_time": "2024-04-20T10:17:44.444184Z"
    }
   },
   "outputs": [
    {
     "name": "stderr",
     "output_type": "stream",
     "text": [
      "C:\\Users\\menbu\\PycharmProjects\\Music Genre Classification\\venv\\lib\\site-packages\\keras\\src\\layers\\core\\dense.py:86: UserWarning: Do not pass an `input_shape`/`input_dim` argument to a layer. When using Sequential models, prefer using an `Input(shape)` object as the first layer in the model instead.\n",
      "  super().__init__(activity_regularizer=activity_regularizer, **kwargs)\n"
     ]
    }
   ],
   "source": [
    "fcnn = models.Sequential([\n",
    "    layers.Dense(128, activation='relu', input_shape=(X_train_scaled.shape[1],)),\n",
    "    layers.Dense(128, activation='relu'),\n",
    "    layers.Dropout(0.3),\n",
    "    layers.Dense(128, activation='relu'),\n",
    "    layers.Dense(10, activation='softmax')\n",
    "])\n",
    "fcnn.compile(optimizer='adam', loss='sparse_categorical_crossentropy', metrics=['accuracy'])\n"
   ]
  },
  {
   "cell_type": "markdown",
   "id": "6e7e4009",
   "metadata": {},
   "source": [
    "### 1.1.1 Alternative FCNN architectures"
   ]
  },
  {
   "cell_type": "markdown",
   "id": "511ef3f5",
   "metadata": {},
   "source": [
    "### Deep and Wide FCNN"
   ]
  },
  {
   "cell_type": "code",
   "execution_count": 14,
   "id": "35fb85d0",
   "metadata": {
    "ExecuteTime": {
     "end_time": "2024-04-20T10:17:44.601631100Z",
     "start_time": "2024-04-20T10:17:44.516012200Z"
    }
   },
   "outputs": [],
   "source": [
    "deep_wide_fcnn = models.Sequential([\n",
    "    layers.Dense(256, activation='relu', input_shape=(X_train_scaled.shape[1],)),\n",
    "    layers.Dense(256, activation='relu'),\n",
    "    layers.Dense(256, activation='relu'),\n",
    "    layers.Dropout(0.5),\n",
    "    layers.Dense(256, activation='relu'),\n",
    "    layers.Dense(256, activation='relu'),\n",
    "    layers.Dense(10, activation='softmax')\n",
    "])\n",
    "deep_wide_fcnn.compile(optimizer='adam', loss='sparse_categorical_crossentropy', metrics=['accuracy'])\n"
   ]
  },
  {
   "cell_type": "markdown",
   "id": "a6f5feb3",
   "metadata": {},
   "source": [
    "### Shallow Network"
   ]
  },
  {
   "cell_type": "code",
   "execution_count": 15,
   "id": "31454dcb",
   "metadata": {
    "ExecuteTime": {
     "end_time": "2024-04-20T10:17:44.646304700Z",
     "start_time": "2024-04-20T10:17:44.553535100Z"
    }
   },
   "outputs": [],
   "source": [
    "shallow_fcnn = models.Sequential([\n",
    "    layers.Dense(64, activation='relu', input_shape=(X_train_scaled.shape[1],)),\n",
    "    layers.Dropout(0.2),\n",
    "    layers.Dense(10, activation='softmax')\n",
    "])\n",
    "shallow_fcnn.compile(optimizer='adam', loss='sparse_categorical_crossentropy', metrics=['accuracy'])"
   ]
  },
  {
   "cell_type": "markdown",
   "id": "89604bb6",
   "metadata": {},
   "source": [
    "### FCNN with Batch Normalization"
   ]
  },
  {
   "cell_type": "code",
   "execution_count": 16,
   "id": "54e4f349",
   "metadata": {
    "ExecuteTime": {
     "end_time": "2024-04-20T10:17:44.663303900Z",
     "start_time": "2024-04-20T10:17:44.584189600Z"
    }
   },
   "outputs": [],
   "source": [
    "bn_fcnn = models.Sequential([\n",
    "    layers.Dense(128, input_shape=(X_train_scaled.shape[1],)),\n",
    "    layers.BatchNormalization(),\n",
    "    layers.Activation('relu'),\n",
    "    layers.Dense(128),\n",
    "    layers.BatchNormalization(),\n",
    "    layers.Activation('relu'),\n",
    "    layers.Dense(128),\n",
    "    layers.BatchNormalization(),\n",
    "    layers.Activation('relu'),\n",
    "    layers.Dropout(0.3),\n",
    "    layers.Dense(10, activation='softmax')\n",
    "])\n",
    "bn_fcnn.compile(optimizer='adam', loss='sparse_categorical_crossentropy', metrics=['accuracy'])"
   ]
  },
  {
   "cell_type": "markdown",
   "id": "e3b471e6",
   "metadata": {},
   "source": [
    "### FCNN with Alternative Activation Functions"
   ]
  },
  {
   "cell_type": "code",
   "execution_count": 17,
   "id": "46224ee0",
   "metadata": {
    "ExecuteTime": {
     "end_time": "2024-04-20T10:17:44.705406600Z",
     "start_time": "2024-04-20T10:17:44.629778200Z"
    }
   },
   "outputs": [],
   "source": [
    "alt_act_fcnn = models.Sequential([\n",
    "    layers.Dense(128, activation='elu', input_shape=(X_train_scaled.shape[1],)),\n",
    "    layers.Dense(128, activation='elu'),\n",
    "    layers.Dropout(0.3),\n",
    "    layers.Dense(128, activation='elu'),\n",
    "    layers.Dense(10, activation='softmax')\n",
    "])\n",
    "alt_act_fcnn.compile(optimizer='adam', loss='sparse_categorical_crossentropy', metrics=['accuracy'])\n"
   ]
  },
  {
   "cell_type": "markdown",
   "id": "da8cfd13",
   "metadata": {},
   "source": [
    "### FCNN with L1/L2 Regularization"
   ]
  },
  {
   "cell_type": "code",
   "execution_count": 18,
   "id": "8ddc4fa7",
   "metadata": {
    "ExecuteTime": {
     "end_time": "2024-04-20T10:17:44.720402400Z",
     "start_time": "2024-04-20T10:17:44.660303800Z"
    }
   },
   "outputs": [],
   "source": [
    "reg_fcnn = models.Sequential([\n",
    "    layers.Dense(128, activation='relu', kernel_regularizer=regularizers.l2(0.01), input_shape=(X_train_scaled.shape[1],)),\n",
    "    layers.Dense(128, activation='relu', kernel_regularizer=regularizers.l2(0.01)),\n",
    "    layers.Dropout(0.3),\n",
    "    layers.Dense(128, activation='relu', kernel_regularizer=regularizers.l2(0.01)),\n",
    "    layers.Dense(10, activation='softmax')\n",
    "])\n",
    "reg_fcnn.compile(optimizer='adam', loss='sparse_categorical_crossentropy', metrics=['accuracy'])\n"
   ]
  },
  {
   "cell_type": "code",
   "execution_count": 18,
   "id": "30be5a10",
   "metadata": {
    "ExecuteTime": {
     "end_time": "2024-04-20T10:17:44.722448600Z",
     "start_time": "2024-04-20T10:17:44.689886300Z"
    }
   },
   "outputs": [],
   "source": []
  },
  {
   "cell_type": "markdown",
   "id": "3fd44378",
   "metadata": {},
   "source": [
    "### 1.2 Train FCNN"
   ]
  },
  {
   "cell_type": "markdown",
   "id": "387f9985",
   "metadata": {},
   "source": [
    "simply change the \"model\" parameter to change the model to train"
   ]
  },
  {
   "cell_type": "code",
   "execution_count": 19,
   "id": "341f5096",
   "metadata": {
    "ExecuteTime": {
     "end_time": "2024-04-20T10:17:52.138514600Z",
     "start_time": "2024-04-20T10:17:44.706405600Z"
    }
   },
   "outputs": [
    {
     "name": "stdout",
     "output_type": "stream",
     "text": [
      "Epoch 1/10\n",
      "\u001B[1m248/248\u001B[0m \u001B[32m━━━━━━━━━━━━━━━━━━━━\u001B[0m\u001B[37m\u001B[0m \u001B[1m2s\u001B[0m 3ms/step - accuracy: 0.4767 - loss: 1.4601 - val_accuracy: 0.6677 - val_loss: 0.9744\n",
      "Epoch 2/10\n",
      "\u001B[1m248/248\u001B[0m \u001B[32m━━━━━━━━━━━━━━━━━━━━\u001B[0m\u001B[37m\u001B[0m \u001B[1m1s\u001B[0m 2ms/step - accuracy: 0.7916 - loss: 0.6113 - val_accuracy: 0.7197 - val_loss: 0.9836\n",
      "Epoch 3/10\n",
      "\u001B[1m248/248\u001B[0m \u001B[32m━━━━━━━━━━━━━━━━━━━━\u001B[0m\u001B[37m\u001B[0m \u001B[1m1s\u001B[0m 2ms/step - accuracy: 0.8706 - loss: 0.3781 - val_accuracy: 0.6808 - val_loss: 1.0459\n",
      "Epoch 4/10\n",
      "\u001B[1m248/248\u001B[0m \u001B[32m━━━━━━━━━━━━━━━━━━━━\u001B[0m\u001B[37m\u001B[0m \u001B[1m1s\u001B[0m 2ms/step - accuracy: 0.9221 - loss: 0.2296 - val_accuracy: 0.6773 - val_loss: 1.1466\n",
      "Epoch 5/10\n",
      "\u001B[1m248/248\u001B[0m \u001B[32m━━━━━━━━━━━━━━━━━━━━\u001B[0m\u001B[37m\u001B[0m \u001B[1m1s\u001B[0m 2ms/step - accuracy: 0.9487 - loss: 0.1676 - val_accuracy: 0.6783 - val_loss: 1.3183\n",
      "Epoch 6/10\n",
      "\u001B[1m248/248\u001B[0m \u001B[32m━━━━━━━━━━━━━━━━━━━━\u001B[0m\u001B[37m\u001B[0m \u001B[1m1s\u001B[0m 2ms/step - accuracy: 0.9535 - loss: 0.1402 - val_accuracy: 0.6949 - val_loss: 1.4122\n",
      "Epoch 7/10\n",
      "\u001B[1m248/248\u001B[0m \u001B[32m━━━━━━━━━━━━━━━━━━━━\u001B[0m\u001B[37m\u001B[0m \u001B[1m1s\u001B[0m 2ms/step - accuracy: 0.9623 - loss: 0.1177 - val_accuracy: 0.7096 - val_loss: 1.4157\n",
      "Epoch 8/10\n",
      "\u001B[1m248/248\u001B[0m \u001B[32m━━━━━━━━━━━━━━━━━━━━\u001B[0m\u001B[37m\u001B[0m \u001B[1m1s\u001B[0m 2ms/step - accuracy: 0.9705 - loss: 0.0894 - val_accuracy: 0.6894 - val_loss: 1.4927\n",
      "Epoch 9/10\n",
      "\u001B[1m248/248\u001B[0m \u001B[32m━━━━━━━━━━━━━━━━━━━━\u001B[0m\u001B[37m\u001B[0m \u001B[1m1s\u001B[0m 3ms/step - accuracy: 0.9646 - loss: 0.1175 - val_accuracy: 0.7040 - val_loss: 1.4722\n",
      "Epoch 10/10\n",
      "\u001B[1m248/248\u001B[0m \u001B[32m━━━━━━━━━━━━━━━━━━━━\u001B[0m\u001B[37m\u001B[0m \u001B[1m1s\u001B[0m 2ms/step - accuracy: 0.9780 - loss: 0.0656 - val_accuracy: 0.7157 - val_loss: 1.6124\n",
      "62/62 - 0s - 1ms/step - accuracy: 0.7157 - loss: 1.6124\n",
      "FCNN Test Accuracy: 0.7157\n"
     ]
    }
   ],
   "source": [
    "model = deep_wide_fcnn # name of the model to be trained here\n",
    "\n",
    "history_fcnn = model.fit(X_train_scaled, y_train, epochs=10, validation_data=(X_test_scaled, y_test))\n",
    "test_loss, test_acc = model.evaluate(X_test_scaled, y_test, verbose=2)\n",
    "print(f\"FCNN Test Accuracy: {test_acc:.4f}\")"
   ]
  },
  {
   "cell_type": "code",
   "execution_count": 19,
   "id": "cc228f8c",
   "metadata": {
    "ExecuteTime": {
     "end_time": "2024-04-20T10:17:52.165058Z",
     "start_time": "2024-04-20T10:17:52.137511900Z"
    }
   },
   "outputs": [],
   "source": []
  },
  {
   "cell_type": "markdown",
   "id": "5e708ea0",
   "metadata": {},
   "source": [
    "# 2. Convolutional Neural Network (CNN) Section"
   ]
  },
  {
   "cell_type": "markdown",
   "id": "fca0ab62",
   "metadata": {},
   "source": [
    "### 2.1 Reshape data for CNN"
   ]
  },
  {
   "cell_type": "code",
   "execution_count": 20,
   "id": "2b391564",
   "metadata": {
    "ExecuteTime": {
     "end_time": "2024-04-20T10:17:52.168056800Z",
     "start_time": "2024-04-20T10:17:52.151461Z"
    }
   },
   "outputs": [],
   "source": [
    "X_train_cnn = X_train_scaled.reshape(X_train_scaled.shape[0], X_train_scaled.shape[1], 1)\n",
    "X_test_cnn = X_test_scaled.reshape(X_test_scaled.shape[0], X_test_scaled.shape[1], 1)\n"
   ]
  },
  {
   "cell_type": "markdown",
   "id": "e054d96d",
   "metadata": {},
   "source": [
    "### 2.2 Create CNN model"
   ]
  },
  {
   "cell_type": "code",
   "execution_count": 21,
   "id": "c696950a",
   "metadata": {
    "ExecuteTime": {
     "end_time": "2024-04-20T10:17:52.217907900Z",
     "start_time": "2024-04-20T10:17:52.169054800Z"
    }
   },
   "outputs": [
    {
     "name": "stderr",
     "output_type": "stream",
     "text": [
      "C:\\Users\\menbu\\PycharmProjects\\Music Genre Classification\\venv\\lib\\site-packages\\keras\\src\\layers\\convolutional\\base_conv.py:99: UserWarning: Do not pass an `input_shape`/`input_dim` argument to a layer. When using Sequential models, prefer using an `Input(shape)` object as the first layer in the model instead.\n",
      "  super().__init__(\n"
     ]
    }
   ],
   "source": [
    "cnn = models.Sequential([\n",
    "    layers.Conv1D(32, 3, activation='relu', input_shape=(X_train_scaled.shape[1], 1)),\n",
    "    layers.MaxPooling1D(2),\n",
    "    layers.Conv1D(32, 3, activation='relu'),\n",
    "    layers.MaxPooling1D(2),\n",
    "    layers.Flatten(),\n",
    "    layers.Dense(128, activation='relu'),\n",
    "    layers.Dropout(0.3),\n",
    "    layers.Dense(10, activation='softmax')\n",
    "])\n",
    "cnn.compile(optimizer='adam', loss='sparse_categorical_crossentropy', metrics=['accuracy'])\n"
   ]
  },
  {
   "cell_type": "markdown",
   "id": "2cd65662",
   "metadata": {},
   "source": [
    "### 2.2.1 Alternative CNN architectures"
   ]
  },
  {
   "cell_type": "markdown",
   "id": "79e02990",
   "metadata": {},
   "source": [
    "### Increased Depth and Filters"
   ]
  },
  {
   "cell_type": "code",
   "execution_count": 22,
   "id": "5f8f7548",
   "metadata": {
    "ExecuteTime": {
     "end_time": "2024-04-20T10:17:52.270129800Z",
     "start_time": "2024-04-20T10:17:52.216906900Z"
    }
   },
   "outputs": [],
   "source": [
    "deep_cnn = models.Sequential([\n",
    "    layers.Conv1D(64, 3, activation='relu', padding='same', input_shape=(X_train_scaled.shape[1], 1)),\n",
    "    layers.MaxPooling1D(2),\n",
    "    layers.Conv1D(64, 3, activation='relu', padding='same'),\n",
    "    layers.MaxPooling1D(2),\n",
    "    layers.Conv1D(128, 3, activation='relu', padding='same'),\n",
    "    layers.MaxPooling1D(2),\n",
    "    layers.Conv1D(128, 3, activation='relu', padding='same'),\n",
    "    layers.MaxPooling1D(2),\n",
    "    layers.Flatten(),\n",
    "    layers.Dense(256, activation='relu'),\n",
    "    layers.Dropout(0.5),\n",
    "    layers.Dense(10, activation='softmax')\n",
    "])\n",
    "deep_cnn.compile(optimizer='adam', loss='sparse_categorical_crossentropy', metrics=['accuracy'])\n"
   ]
  },
  {
   "cell_type": "markdown",
   "id": "bc11db8a",
   "metadata": {},
   "source": [
    "### CNN with Batch Normalization"
   ]
  },
  {
   "cell_type": "code",
   "execution_count": 23,
   "id": "36d84346",
   "metadata": {
    "ExecuteTime": {
     "end_time": "2024-04-20T10:17:52.307868200Z",
     "start_time": "2024-04-20T10:17:52.260498600Z"
    }
   },
   "outputs": [],
   "source": [
    "bn_cnn = models.Sequential([\n",
    "    layers.Conv1D(32, 3, padding='same', input_shape=(X_train_scaled.shape[1], 1)),\n",
    "    layers.BatchNormalization(),\n",
    "    layers.Activation('relu'),\n",
    "    layers.MaxPooling1D(2),\n",
    "    layers.Conv1D(64, 3, padding='same'),\n",
    "    layers.BatchNormalization(),\n",
    "    layers.Activation('relu'),\n",
    "    layers.MaxPooling1D(2),\n",
    "    layers.Flatten(),\n",
    "    layers.Dense(128, activation='relu'),\n",
    "    layers.Dropout(0.3),\n",
    "    layers.Dense(10, activation='softmax')\n",
    "])\n",
    "bn_cnn.compile(optimizer='adam', loss='sparse_categorical_crossentropy', metrics=['accuracy'])\n"
   ]
  },
  {
   "cell_type": "markdown",
   "id": "48ce51fa",
   "metadata": {},
   "source": [
    "### CNN with Dilated Convolutions"
   ]
  },
  {
   "cell_type": "code",
   "execution_count": 24,
   "id": "eade1111",
   "metadata": {
    "ExecuteTime": {
     "end_time": "2024-04-20T10:17:52.355932200Z",
     "start_time": "2024-04-20T10:17:52.308868200Z"
    }
   },
   "outputs": [],
   "source": [
    "dilated_cnn = models.Sequential([\n",
    "    layers.Conv1D(32, 3, dilation_rate=1, activation='relu', input_shape=(X_train_scaled.shape[1], 1)),\n",
    "    layers.Conv1D(32, 3, dilation_rate=2, activation='relu'),\n",
    "    layers.MaxPooling1D(2),\n",
    "    layers.Conv1D(64, 3, dilation_rate=2, activation='relu'),\n",
    "    layers.MaxPooling1D(2),\n",
    "    layers.Flatten(),\n",
    "    layers.Dense(128, activation='relu'),\n",
    "    layers.Dropout(0.3),\n",
    "    layers.Dense(10, activation='softmax')\n",
    "])\n",
    "dilated_cnn.compile(optimizer='adam', loss='sparse_categorical_crossentropy', metrics=['accuracy'])\n"
   ]
  },
  {
   "cell_type": "markdown",
   "id": "e0326f35",
   "metadata": {},
   "source": [
    "### CNN with Inception Modules"
   ]
  },
  {
   "cell_type": "code",
   "execution_count": 25,
   "id": "57ee4795",
   "metadata": {
    "ExecuteTime": {
     "end_time": "2024-04-20T10:17:52.447497200Z",
     "start_time": "2024-04-20T10:17:52.358934300Z"
    }
   },
   "outputs": [],
   "source": [
    "def inception_module(input_tensor, filter_operation):\n",
    "    t1 = layers.Conv1D(filter_operation, 1, padding='same', activation='relu')(input_tensor)\n",
    "\n",
    "    t2 = layers.Conv1D(filter_operation, 1, padding='same', activation='relu')(input_tensor)\n",
    "    t2 = layers.Conv1D(filter_operation, 3, padding='same', activation='relu')(t2)\n",
    "\n",
    "    t3 = layers.Conv1D(filter_operation, 1, padding='same', activation='relu')(input_tensor)\n",
    "    t3 = layers.Conv1D(filter_operation, 5, padding='same', activation='relu')(t3)\n",
    "\n",
    "    t4 = layers.MaxPooling1D(3, strides=1, padding='same')(input_tensor)\n",
    "    t4 = layers.Conv1D(filter_operation, 1, padding='same', activation='relu')(t4)\n",
    "\n",
    "    output = layers.Concatenate()([t1, t2, t3, t4])\n",
    "    return output\n",
    "\n",
    "input_layer = Input(shape=(X_train_scaled.shape[1], 1))\n",
    "x = inception_module(input_layer, 32)\n",
    "x = layers.MaxPooling1D(2)(x)\n",
    "x = inception_module(x, 64)\n",
    "x = layers.MaxPooling1D(2)(x)\n",
    "x = layers.Flatten()(x)\n",
    "x = layers.Dense(256, activation='relu')(x)\n",
    "x = layers.Dropout(0.3)(x)\n",
    "output_layer = layers.Dense(10, activation='softmax')(x)\n",
    "\n",
    "inception_cnn = models.Model(inputs=input_layer, outputs=output_layer)\n",
    "inception_cnn.compile(optimizer='adam', loss='sparse_categorical_crossentropy', metrics=['accuracy'])\n"
   ]
  },
  {
   "cell_type": "markdown",
   "id": "e24c49e0",
   "metadata": {},
   "source": [
    "### Lightweight CNN"
   ]
  },
  {
   "cell_type": "code",
   "execution_count": 26,
   "id": "b1441810",
   "metadata": {
    "ExecuteTime": {
     "end_time": "2024-04-20T10:17:52.492249600Z",
     "start_time": "2024-04-20T10:17:52.452499700Z"
    }
   },
   "outputs": [],
   "source": [
    "lightweight_cnn = models.Sequential([\n",
    "    layers.Conv1D(16, 3, activation='relu', input_shape=(X_train_scaled.shape[1], 1)),\n",
    "    layers.MaxPooling1D(2),\n",
    "    layers.Conv1D(16, 3, activation='relu'),\n",
    "    layers.MaxPooling1D(2),\n",
    "    layers.Flatten(),\n",
    "    layers.Dense(64, activation='relu'),\n",
    "    layers.Dropout(0.2),\n",
    "    layers.Dense(10, activation='softmax')\n",
    "])\n",
    "lightweight_cnn.compile(optimizer='adam', loss='sparse_categorical_crossentropy', metrics=['accuracy'])"
   ]
  },
  {
   "cell_type": "code",
   "execution_count": 26,
   "id": "56466f31",
   "metadata": {
    "ExecuteTime": {
     "end_time": "2024-04-20T10:17:52.494766700Z",
     "start_time": "2024-04-20T10:17:52.478166800Z"
    }
   },
   "outputs": [],
   "source": []
  },
  {
   "cell_type": "markdown",
   "id": "5797341f",
   "metadata": {},
   "source": [
    "### 2.3 Train CNN model"
   ]
  },
  {
   "cell_type": "markdown",
   "id": "c377833e",
   "metadata": {},
   "source": [
    "simply change the \"model\" parameter to change the model to train"
   ]
  },
  {
   "cell_type": "code",
   "execution_count": 27,
   "id": "f49f8b9d",
   "metadata": {
    "ExecuteTime": {
     "end_time": "2024-04-20T10:18:03.548738600Z",
     "start_time": "2024-04-20T10:17:52.495778300Z"
    }
   },
   "outputs": [
    {
     "name": "stdout",
     "output_type": "stream",
     "text": [
      "Epoch 1/10\n",
      "\u001B[1m248/248\u001B[0m \u001B[32m━━━━━━━━━━━━━━━━━━━━\u001B[0m\u001B[37m\u001B[0m \u001B[1m2s\u001B[0m 4ms/step - accuracy: 0.4807 - loss: 1.4838 - val_accuracy: 0.5490 - val_loss: 1.2914\n",
      "Epoch 2/10\n",
      "\u001B[1m248/248\u001B[0m \u001B[32m━━━━━━━━━━━━━━━━━━━━\u001B[0m\u001B[37m\u001B[0m \u001B[1m1s\u001B[0m 4ms/step - accuracy: 0.7542 - loss: 0.7106 - val_accuracy: 0.6859 - val_loss: 0.9081\n",
      "Epoch 3/10\n",
      "\u001B[1m248/248\u001B[0m \u001B[32m━━━━━━━━━━━━━━━━━━━━\u001B[0m\u001B[37m\u001B[0m \u001B[1m1s\u001B[0m 4ms/step - accuracy: 0.8152 - loss: 0.5227 - val_accuracy: 0.7116 - val_loss: 0.9447\n",
      "Epoch 4/10\n",
      "\u001B[1m248/248\u001B[0m \u001B[32m━━━━━━━━━━━━━━━━━━━━\u001B[0m\u001B[37m\u001B[0m \u001B[1m1s\u001B[0m 4ms/step - accuracy: 0.8559 - loss: 0.4173 - val_accuracy: 0.7015 - val_loss: 0.9409\n",
      "Epoch 5/10\n",
      "\u001B[1m248/248\u001B[0m \u001B[32m━━━━━━━━━━━━━━━━━━━━\u001B[0m\u001B[37m\u001B[0m \u001B[1m1s\u001B[0m 4ms/step - accuracy: 0.8972 - loss: 0.3120 - val_accuracy: 0.7121 - val_loss: 0.9750\n",
      "Epoch 6/10\n",
      "\u001B[1m248/248\u001B[0m \u001B[32m━━━━━━━━━━━━━━━━━━━━\u001B[0m\u001B[37m\u001B[0m \u001B[1m1s\u001B[0m 4ms/step - accuracy: 0.9064 - loss: 0.2711 - val_accuracy: 0.7005 - val_loss: 1.0847\n",
      "Epoch 7/10\n",
      "\u001B[1m248/248\u001B[0m \u001B[32m━━━━━━━━━━━━━━━━━━━━\u001B[0m\u001B[37m\u001B[0m \u001B[1m1s\u001B[0m 4ms/step - accuracy: 0.9283 - loss: 0.2169 - val_accuracy: 0.6934 - val_loss: 1.1159\n",
      "Epoch 8/10\n",
      "\u001B[1m248/248\u001B[0m \u001B[32m━━━━━━━━━━━━━━━━━━━━\u001B[0m\u001B[37m\u001B[0m \u001B[1m1s\u001B[0m 4ms/step - accuracy: 0.9337 - loss: 0.1920 - val_accuracy: 0.7061 - val_loss: 1.2298\n",
      "Epoch 9/10\n",
      "\u001B[1m248/248\u001B[0m \u001B[32m━━━━━━━━━━━━━━━━━━━━\u001B[0m\u001B[37m\u001B[0m \u001B[1m1s\u001B[0m 4ms/step - accuracy: 0.9378 - loss: 0.1742 - val_accuracy: 0.7136 - val_loss: 1.1437\n",
      "Epoch 10/10\n",
      "\u001B[1m248/248\u001B[0m \u001B[32m━━━━━━━━━━━━━━━━━━━━\u001B[0m\u001B[37m\u001B[0m \u001B[1m1s\u001B[0m 4ms/step - accuracy: 0.9513 - loss: 0.1486 - val_accuracy: 0.7136 - val_loss: 1.2272\n",
      "62/62 - 0s - 1ms/step - accuracy: 0.7136 - loss: 1.2272\n",
      "CNN Test Accuracy: 0.7136\n"
     ]
    }
   ],
   "source": [
    "model = bn_cnn # name of the model to be trained here\n",
    "\n",
    "history_cnn = model.fit(X_train_cnn, y_train, epochs=10, validation_data=(X_test_cnn, y_test))\n",
    "test_loss, test_acc = model.evaluate(X_test_cnn, y_test, verbose=2)\n",
    "print(f\"CNN Test Accuracy: {test_acc:.4f}\")"
   ]
  },
  {
   "cell_type": "code",
   "execution_count": 27,
   "id": "1a4f4379",
   "metadata": {
    "ExecuteTime": {
     "end_time": "2024-04-20T10:18:03.571590200Z",
     "start_time": "2024-04-20T10:18:03.548738600Z"
    }
   },
   "outputs": [],
   "source": []
  },
  {
   "cell_type": "markdown",
   "id": "33185140",
   "metadata": {},
   "source": [
    "# 3. Recurrent Neural Network (RNN) Section"
   ]
  },
  {
   "cell_type": "markdown",
   "id": "ff1a4177",
   "metadata": {},
   "source": [
    "### 3.1 Reshape data for RNN"
   ]
  },
  {
   "cell_type": "code",
   "execution_count": 28,
   "id": "ccece180",
   "metadata": {
    "ExecuteTime": {
     "end_time": "2024-04-20T10:18:03.584691300Z",
     "start_time": "2024-04-20T10:18:03.566073Z"
    }
   },
   "outputs": [],
   "source": [
    "X_train_rnn = X_train_scaled.reshape(X_train_scaled.shape[0], 1, X_train_scaled.shape[1])\n",
    "X_test_rnn = X_test_scaled.reshape(X_test_scaled.shape[0], 1, X_test_scaled.shape[1])"
   ]
  },
  {
   "cell_type": "markdown",
   "id": "ad07bac6",
   "metadata": {},
   "source": [
    "### 3.2 Create RNN model"
   ]
  },
  {
   "cell_type": "code",
   "execution_count": 29,
   "id": "2283e533",
   "metadata": {
    "ExecuteTime": {
     "end_time": "2024-04-20T10:18:03.642028600Z",
     "start_time": "2024-04-20T10:18:03.583689Z"
    }
   },
   "outputs": [
    {
     "name": "stderr",
     "output_type": "stream",
     "text": [
      "C:\\Users\\menbu\\PycharmProjects\\Music Genre Classification\\venv\\lib\\site-packages\\keras\\src\\layers\\rnn\\rnn.py:204: UserWarning: Do not pass an `input_shape`/`input_dim` argument to a layer. When using Sequential models, prefer using an `Input(shape)` object as the first layer in the model instead.\n",
      "  super().__init__(**kwargs)\n"
     ]
    }
   ],
   "source": [
    "rnn = models.Sequential([\n",
    "    layers.LSTM(64, return_sequences=True, input_shape=(1, X_train_scaled.shape[1])),\n",
    "    layers.LSTM(64),\n",
    "    layers.Dense(128, activation='relu'),\n",
    "    layers.Dropout(0.3),\n",
    "    layers.Dense(10, activation='softmax')\n",
    "])\n",
    "rnn.compile(optimizer='adam', loss='sparse_categorical_crossentropy', metrics=['accuracy'])"
   ]
  },
  {
   "cell_type": "markdown",
   "id": "3b765fa4",
   "metadata": {},
   "source": [
    "### 3.2.1 Alternative RNN architectures"
   ]
  },
  {
   "cell_type": "markdown",
   "id": "621203f9",
   "metadata": {},
   "source": [
    "### Simple RNN with Increased Depth"
   ]
  },
  {
   "cell_type": "code",
   "execution_count": 30,
   "id": "57388270",
   "metadata": {
    "ExecuteTime": {
     "end_time": "2024-04-20T10:18:03.691569300Z",
     "start_time": "2024-04-20T10:18:03.644630100Z"
    }
   },
   "outputs": [],
   "source": [
    "simple_rnn = models.Sequential([\n",
    "    layers.SimpleRNN(64, return_sequences=True, input_shape=(1, X_train_scaled.shape[1])),\n",
    "    layers.SimpleRNN(64, return_sequences=True),\n",
    "    layers.SimpleRNN(64),\n",
    "    layers.Dense(128, activation='relu'),\n",
    "    layers.Dropout(0.3),\n",
    "    layers.Dense(10, activation='softmax')\n",
    "])\n",
    "simple_rnn.compile(optimizer='adam', loss='sparse_categorical_crossentropy', metrics=['accuracy'])\n"
   ]
  },
  {
   "cell_type": "markdown",
   "id": "90fee102",
   "metadata": {},
   "source": [
    "### LSTM with Bidirectional Layers"
   ]
  },
  {
   "cell_type": "code",
   "execution_count": 31,
   "id": "98d6f09b",
   "metadata": {
    "ExecuteTime": {
     "end_time": "2024-04-20T10:18:03.754461200Z",
     "start_time": "2024-04-20T10:18:03.690573400Z"
    }
   },
   "outputs": [
    {
     "name": "stderr",
     "output_type": "stream",
     "text": [
      "C:\\Users\\menbu\\PycharmProjects\\Music Genre Classification\\venv\\lib\\site-packages\\keras\\src\\layers\\core\\wrapper.py:27: UserWarning: Do not pass an `input_shape`/`input_dim` argument to a layer. When using Sequential models, prefer using an `Input(shape)` object as the first layer in the model instead.\n",
      "  super().__init__(**kwargs)\n"
     ]
    }
   ],
   "source": [
    "bidirectional_lstm = models.Sequential([\n",
    "    layers.Bidirectional(layers.LSTM(64, return_sequences=True), input_shape=(1, X_train_scaled.shape[1])),\n",
    "    layers.Bidirectional(layers.LSTM(64)),\n",
    "    layers.Dense(128, activation='relu'),\n",
    "    layers.Dropout(0.3),\n",
    "    layers.Dense(10, activation='softmax')\n",
    "])\n",
    "bidirectional_lstm.compile(optimizer='adam', loss='sparse_categorical_crossentropy', metrics=['accuracy'])"
   ]
  },
  {
   "cell_type": "markdown",
   "id": "055c460c",
   "metadata": {},
   "source": [
    "### GRU with Layer Normalization"
   ]
  },
  {
   "cell_type": "code",
   "execution_count": 32,
   "id": "0a20305b",
   "metadata": {
    "ExecuteTime": {
     "end_time": "2024-04-20T10:18:03.807809600Z",
     "start_time": "2024-04-20T10:18:03.753464200Z"
    }
   },
   "outputs": [],
   "source": [
    "gru = models.Sequential([\n",
    "    layers.GRU(64, return_sequences=True, input_shape=(1, X_train_scaled.shape[1]), recurrent_initializer='glorot_uniform'),\n",
    "    layers.LayerNormalization(),\n",
    "    layers.GRU(64),\n",
    "    layers.LayerNormalization(),\n",
    "    layers.Dense(128, activation='relu'),\n",
    "    layers.Dropout(0.3),\n",
    "    layers.Dense(10, activation='softmax')\n",
    "])\n",
    "gru.compile(optimizer='adam', loss='sparse_categorical_crossentropy', metrics=['accuracy'])"
   ]
  },
  {
   "cell_type": "markdown",
   "id": "453a5aa1",
   "metadata": {},
   "source": [
    "### Stacked LSTM with Different Units"
   ]
  },
  {
   "cell_type": "code",
   "execution_count": 33,
   "id": "83356964",
   "metadata": {
    "ExecuteTime": {
     "end_time": "2024-04-20T10:18:03.849106500Z",
     "start_time": "2024-04-20T10:18:03.799778200Z"
    }
   },
   "outputs": [],
   "source": [
    "stacked_lstm = models.Sequential([\n",
    "    layers.LSTM(128, return_sequences=True, input_shape=(1, X_train_scaled.shape[1])),\n",
    "    layers.LSTM(64, return_sequences=True),\n",
    "    layers.LSTM(32),\n",
    "    layers.Dense(128, activation='relu'),\n",
    "    layers.Dropout(0.3),\n",
    "    layers.Dense(10, activation='softmax')\n",
    "])\n",
    "stacked_lstm.compile(optimizer='adam', loss='sparse_categorical_crossentropy', metrics=['accuracy'])"
   ]
  },
  {
   "cell_type": "code",
   "execution_count": 33,
   "id": "28784e34",
   "metadata": {
    "ExecuteTime": {
     "end_time": "2024-04-20T10:18:03.861868600Z",
     "start_time": "2024-04-20T10:18:03.846110500Z"
    }
   },
   "outputs": [],
   "source": []
  },
  {
   "cell_type": "code",
   "execution_count": 33,
   "id": "9c4ab2a7",
   "metadata": {
    "ExecuteTime": {
     "end_time": "2024-04-20T10:18:03.903876100Z",
     "start_time": "2024-04-20T10:18:03.864867700Z"
    }
   },
   "outputs": [],
   "source": []
  },
  {
   "cell_type": "markdown",
   "id": "fd18ddf5",
   "metadata": {},
   "source": [
    "### 3.3 Train RNN"
   ]
  },
  {
   "cell_type": "markdown",
   "id": "1a7643a9",
   "metadata": {},
   "source": [
    "simply change the \"model\" parameter to change the model to train"
   ]
  },
  {
   "cell_type": "code",
   "execution_count": 34,
   "id": "a885c475",
   "metadata": {
    "scrolled": true,
    "ExecuteTime": {
     "end_time": "2024-04-20T10:18:20.350994800Z",
     "start_time": "2024-04-20T10:18:03.881164Z"
    }
   },
   "outputs": [
    {
     "name": "stdout",
     "output_type": "stream",
     "text": [
      "Epoch 1/20\n",
      "\u001B[1m248/248\u001B[0m \u001B[32m━━━━━━━━━━━━━━━━━━━━\u001B[0m\u001B[37m\u001B[0m \u001B[1m4s\u001B[0m 4ms/step - accuracy: 0.4344 - loss: 1.6870 - val_accuracy: 0.6692 - val_loss: 0.9335\n",
      "Epoch 2/20\n",
      "\u001B[1m248/248\u001B[0m \u001B[32m━━━━━━━━━━━━━━━━━━━━\u001B[0m\u001B[37m\u001B[0m \u001B[1m1s\u001B[0m 2ms/step - accuracy: 0.7643 - loss: 0.6961 - val_accuracy: 0.7051 - val_loss: 0.8679\n",
      "Epoch 3/20\n",
      "\u001B[1m248/248\u001B[0m \u001B[32m━━━━━━━━━━━━━━━━━━━━\u001B[0m\u001B[37m\u001B[0m \u001B[1m1s\u001B[0m 2ms/step - accuracy: 0.8646 - loss: 0.4209 - val_accuracy: 0.7106 - val_loss: 0.9590\n",
      "Epoch 4/20\n",
      "\u001B[1m248/248\u001B[0m \u001B[32m━━━━━━━━━━━━━━━━━━━━\u001B[0m\u001B[37m\u001B[0m \u001B[1m1s\u001B[0m 2ms/step - accuracy: 0.9044 - loss: 0.2778 - val_accuracy: 0.7111 - val_loss: 1.0802\n",
      "Epoch 5/20\n",
      "\u001B[1m248/248\u001B[0m \u001B[32m━━━━━━━━━━━━━━━━━━━━\u001B[0m\u001B[37m\u001B[0m \u001B[1m1s\u001B[0m 3ms/step - accuracy: 0.9468 - loss: 0.1631 - val_accuracy: 0.7227 - val_loss: 1.1164\n",
      "Epoch 6/20\n",
      "\u001B[1m248/248\u001B[0m \u001B[32m━━━━━━━━━━━━━━━━━━━━\u001B[0m\u001B[37m\u001B[0m \u001B[1m1s\u001B[0m 3ms/step - accuracy: 0.9691 - loss: 0.1050 - val_accuracy: 0.7172 - val_loss: 1.2622\n",
      "Epoch 7/20\n",
      "\u001B[1m248/248\u001B[0m \u001B[32m━━━━━━━━━━━━━━━━━━━━\u001B[0m\u001B[37m\u001B[0m \u001B[1m1s\u001B[0m 2ms/step - accuracy: 0.9801 - loss: 0.0685 - val_accuracy: 0.7263 - val_loss: 1.3490\n",
      "Epoch 8/20\n",
      "\u001B[1m248/248\u001B[0m \u001B[32m━━━━━━━━━━━━━━━━━━━━\u001B[0m\u001B[37m\u001B[0m \u001B[1m1s\u001B[0m 3ms/step - accuracy: 0.9836 - loss: 0.0556 - val_accuracy: 0.7202 - val_loss: 1.4603\n",
      "Epoch 9/20\n",
      "\u001B[1m248/248\u001B[0m \u001B[32m━━━━━━━━━━━━━━━━━━━━\u001B[0m\u001B[37m\u001B[0m \u001B[1m1s\u001B[0m 3ms/step - accuracy: 0.9904 - loss: 0.0393 - val_accuracy: 0.7071 - val_loss: 1.5998\n",
      "Epoch 10/20\n",
      "\u001B[1m248/248\u001B[0m \u001B[32m━━━━━━━━━━━━━━━━━━━━\u001B[0m\u001B[37m\u001B[0m \u001B[1m1s\u001B[0m 2ms/step - accuracy: 0.9902 - loss: 0.0387 - val_accuracy: 0.7162 - val_loss: 1.5810\n",
      "Epoch 11/20\n",
      "\u001B[1m248/248\u001B[0m \u001B[32m━━━━━━━━━━━━━━━━━━━━\u001B[0m\u001B[37m\u001B[0m \u001B[1m1s\u001B[0m 2ms/step - accuracy: 0.9908 - loss: 0.0310 - val_accuracy: 0.7197 - val_loss: 1.6728\n",
      "Epoch 12/20\n",
      "\u001B[1m248/248\u001B[0m \u001B[32m━━━━━━━━━━━━━━━━━━━━\u001B[0m\u001B[37m\u001B[0m \u001B[1m1s\u001B[0m 3ms/step - accuracy: 0.9915 - loss: 0.0293 - val_accuracy: 0.7020 - val_loss: 1.8069\n",
      "Epoch 13/20\n",
      "\u001B[1m248/248\u001B[0m \u001B[32m━━━━━━━━━━━━━━━━━━━━\u001B[0m\u001B[37m\u001B[0m \u001B[1m1s\u001B[0m 3ms/step - accuracy: 0.9947 - loss: 0.0188 - val_accuracy: 0.7182 - val_loss: 1.7703\n",
      "Epoch 14/20\n",
      "\u001B[1m248/248\u001B[0m \u001B[32m━━━━━━━━━━━━━━━━━━━━\u001B[0m\u001B[37m\u001B[0m \u001B[1m1s\u001B[0m 2ms/step - accuracy: 0.9967 - loss: 0.0119 - val_accuracy: 0.7126 - val_loss: 1.8674\n",
      "Epoch 15/20\n",
      "\u001B[1m248/248\u001B[0m \u001B[32m━━━━━━━━━━━━━━━━━━━━\u001B[0m\u001B[37m\u001B[0m \u001B[1m1s\u001B[0m 3ms/step - accuracy: 0.9933 - loss: 0.0206 - val_accuracy: 0.7177 - val_loss: 1.9047\n",
      "Epoch 16/20\n",
      "\u001B[1m248/248\u001B[0m \u001B[32m━━━━━━━━━━━━━━━━━━━━\u001B[0m\u001B[37m\u001B[0m \u001B[1m1s\u001B[0m 3ms/step - accuracy: 0.9965 - loss: 0.0102 - val_accuracy: 0.7167 - val_loss: 2.0118\n",
      "Epoch 17/20\n",
      "\u001B[1m248/248\u001B[0m \u001B[32m━━━━━━━━━━━━━━━━━━━━\u001B[0m\u001B[37m\u001B[0m \u001B[1m1s\u001B[0m 2ms/step - accuracy: 0.9941 - loss: 0.0200 - val_accuracy: 0.7172 - val_loss: 2.0939\n",
      "Epoch 18/20\n",
      "\u001B[1m248/248\u001B[0m \u001B[32m━━━━━━━━━━━━━━━━━━━━\u001B[0m\u001B[37m\u001B[0m \u001B[1m1s\u001B[0m 2ms/step - accuracy: 0.9960 - loss: 0.0138 - val_accuracy: 0.7126 - val_loss: 2.0562\n",
      "Epoch 19/20\n",
      "\u001B[1m248/248\u001B[0m \u001B[32m━━━━━━━━━━━━━━━━━━━━\u001B[0m\u001B[37m\u001B[0m \u001B[1m1s\u001B[0m 2ms/step - accuracy: 0.9911 - loss: 0.0251 - val_accuracy: 0.7040 - val_loss: 2.0967\n",
      "Epoch 20/20\n",
      "\u001B[1m248/248\u001B[0m \u001B[32m━━━━━━━━━━━━━━━━━━━━\u001B[0m\u001B[37m\u001B[0m \u001B[1m1s\u001B[0m 3ms/step - accuracy: 0.9952 - loss: 0.0138 - val_accuracy: 0.7015 - val_loss: 2.2457\n",
      "62/62 - 0s - 964us/step - accuracy: 0.7015 - loss: 2.2457\n",
      "RNN Test Accuracy: 0.7015\n"
     ]
    }
   ],
   "source": [
    "model = bidirectional_lstm # name of the model to be trained here\n",
    "\n",
    "history_rnn = model.fit(X_train_rnn, y_train, epochs=20, validation_data=(X_test_rnn, y_test))\n",
    "test_loss, test_acc = model.evaluate(X_test_rnn, y_test, verbose=2)\n",
    "print(f\"RNN Test Accuracy: {test_acc:.4f}\")"
   ]
  },
  {
   "cell_type": "code",
   "execution_count": 34,
   "id": "f2908628",
   "metadata": {
    "ExecuteTime": {
     "end_time": "2024-04-20T10:18:20.371499600Z",
     "start_time": "2024-04-20T10:18:20.348000600Z"
    }
   },
   "outputs": [],
   "source": []
  },
  {
   "cell_type": "markdown",
   "id": "47aad2d0",
   "metadata": {},
   "source": [
    "# 4. Hybrid models Section"
   ]
  },
  {
   "cell_type": "markdown",
   "id": "53f0689c",
   "metadata": {},
   "source": [
    "### CNN + LSTM Model (it's bad)"
   ]
  },
  {
   "cell_type": "code",
   "execution_count": 35,
   "id": "57894434",
   "metadata": {
    "ExecuteTime": {
     "end_time": "2024-04-20T10:18:20.414443800Z",
     "start_time": "2024-04-20T10:18:20.367023700Z"
    }
   },
   "outputs": [],
   "source": [
    "hybrid_cnn_lstm_model = models.Sequential([\n",
    "    layers.Conv1D(32, kernel_size=3, activation='relu', input_shape=(X_train_scaled.shape[1], 1)),\n",
    "    layers.MaxPooling1D(2),\n",
    "    layers.Conv1D(64, kernel_size=3, activation='relu'),\n",
    "    layers.MaxPooling1D(2),\n",
    "    layers.LSTM(64, return_sequences=True),\n",
    "    layers.LSTM(64),\n",
    "    layers.Dense(64, activation='relu'),\n",
    "    layers.Dropout(0.5),\n",
    "    layers.Dense(10, activation='softmax')\n",
    "])\n",
    "\n",
    "hybrid_cnn_lstm_model.compile(optimizer='adam', loss='sparse_categorical_crossentropy', metrics=['accuracy'])\n"
   ]
  },
  {
   "cell_type": "markdown",
   "id": "14a70a05",
   "metadata": {},
   "source": [
    "### LSTM + Conv1D Model (slow to train and overfits)"
   ]
  },
  {
   "cell_type": "code",
   "execution_count": 36,
   "id": "77f53dd0",
   "metadata": {
    "ExecuteTime": {
     "end_time": "2024-04-20T10:18:20.463251600Z",
     "start_time": "2024-04-20T10:18:20.412963400Z"
    }
   },
   "outputs": [],
   "source": [
    "hybrid_lstm_cnn_model = models.Sequential([\n",
    "    layers.LSTM(64, return_sequences=True, input_shape=(X_train_scaled.shape[1], 1)),\n",
    "    layers.LSTM(64),\n",
    "    layers.Reshape((64, 1)),\n",
    "    layers.Conv1D(64, 3, activation='relu'),\n",
    "    layers.GlobalMaxPooling1D(),\n",
    "    layers.Dense(64, activation='relu'),\n",
    "    layers.Dropout(0.3),\n",
    "    layers.Dense(10, activation='softmax')\n",
    "])\n",
    "\n",
    "hybrid_lstm_cnn_model.compile(optimizer='adam', loss='sparse_categorical_crossentropy', metrics=['accuracy'])\n"
   ]
  },
  {
   "cell_type": "markdown",
   "id": "69b4354e",
   "metadata": {},
   "source": [
    "### CNN + GRU Model (overfits)"
   ]
  },
  {
   "cell_type": "code",
   "execution_count": 37,
   "id": "46aa9f7d",
   "metadata": {
    "ExecuteTime": {
     "end_time": "2024-04-20T10:18:20.524000800Z",
     "start_time": "2024-04-20T10:18:20.458244Z"
    }
   },
   "outputs": [],
   "source": [
    "hybrid_cnn_gru_model = models.Sequential([\n",
    "    layers.Conv1D(32, kernel_size=3, activation='relu', input_shape=(X_train_scaled.shape[1], 1)),\n",
    "    layers.MaxPooling1D(2),\n",
    "    layers.Conv1D(64, kernel_size=3, activation='relu'),\n",
    "    layers.MaxPooling1D(2),\n",
    "    layers.GRU(64, return_sequences=True),\n",
    "    layers.GRU(64),\n",
    "    layers.Dense(64, activation='relu'),\n",
    "    layers.Dropout(0.5),\n",
    "    layers.Dense(10, activation='softmax')\n",
    "])\n",
    "\n",
    "hybrid_cnn_gru_model.compile(optimizer='adam', loss='sparse_categorical_crossentropy', metrics=['accuracy'])\n"
   ]
  },
  {
   "cell_type": "markdown",
   "id": "ad268d20",
   "metadata": {},
   "source": [
    "### Bidirectional LSTM + CNN Model (overfits)"
   ]
  },
  {
   "cell_type": "code",
   "execution_count": 38,
   "id": "604d8306",
   "metadata": {
    "ExecuteTime": {
     "end_time": "2024-04-20T10:18:20.820752300Z",
     "start_time": "2024-04-20T10:18:20.521988900Z"
    }
   },
   "outputs": [],
   "source": [
    "hybrid_bidirectional_lstm_cnn_model = models.Sequential([\n",
    "    layers.Bidirectional(layers.LSTM(64, return_sequences=True), input_shape=(X_train_scaled.shape[1], 1)),\n",
    "    layers.Bidirectional(layers.LSTM(64)),\n",
    "    layers.Reshape((128, 1)),\n",
    "    layers.Conv1D(64, 3, activation='relu'),\n",
    "    layers.GlobalMaxPooling1D(),\n",
    "    layers.Dense(64, activation='relu'),\n",
    "    layers.Dropout(0.3),\n",
    "    layers.Dense(10, activation='softmax')\n",
    "])\n",
    "\n",
    "hybrid_bidirectional_lstm_cnn_model.compile(optimizer='adam', loss='sparse_categorical_crossentropy', metrics=['accuracy'])\n"
   ]
  },
  {
   "cell_type": "markdown",
   "id": "a2ed6579",
   "metadata": {},
   "source": [
    "### 4.1 Train hybrid models"
   ]
  },
  {
   "cell_type": "code",
   "execution_count": 39,
   "id": "11eb75b5",
   "metadata": {
    "scrolled": true,
    "ExecuteTime": {
     "end_time": "2024-04-20T10:19:29.866378600Z",
     "start_time": "2024-04-20T10:18:20.816500300Z"
    }
   },
   "outputs": [
    {
     "name": "stdout",
     "output_type": "stream",
     "text": [
      "Epoch 1/30\n",
      "\u001B[1m248/248\u001B[0m \u001B[32m━━━━━━━━━━━━━━━━━━━━\u001B[0m\u001B[37m\u001B[0m \u001B[1m5s\u001B[0m 10ms/step - accuracy: 0.2297 - loss: 2.0443 - val_accuracy: 0.3843 - val_loss: 1.6978\n",
      "Epoch 2/30\n",
      "\u001B[1m248/248\u001B[0m \u001B[32m━━━━━━━━━━━━━━━━━━━━\u001B[0m\u001B[37m\u001B[0m \u001B[1m2s\u001B[0m 9ms/step - accuracy: 0.3945 - loss: 1.6654 - val_accuracy: 0.4783 - val_loss: 1.5071\n",
      "Epoch 3/30\n",
      "\u001B[1m248/248\u001B[0m \u001B[32m━━━━━━━━━━━━━━━━━━━━\u001B[0m\u001B[37m\u001B[0m \u001B[1m2s\u001B[0m 9ms/step - accuracy: 0.4843 - loss: 1.4589 - val_accuracy: 0.4919 - val_loss: 1.4567\n",
      "Epoch 4/30\n",
      "\u001B[1m248/248\u001B[0m \u001B[32m━━━━━━━━━━━━━━━━━━━━\u001B[0m\u001B[37m\u001B[0m \u001B[1m2s\u001B[0m 9ms/step - accuracy: 0.5281 - loss: 1.3561 - val_accuracy: 0.5025 - val_loss: 1.4553\n",
      "Epoch 5/30\n",
      "\u001B[1m248/248\u001B[0m \u001B[32m━━━━━━━━━━━━━━━━━━━━\u001B[0m\u001B[37m\u001B[0m \u001B[1m2s\u001B[0m 9ms/step - accuracy: 0.5508 - loss: 1.2808 - val_accuracy: 0.5424 - val_loss: 1.4177\n",
      "Epoch 6/30\n",
      "\u001B[1m248/248\u001B[0m \u001B[32m━━━━━━━━━━━━━━━━━━━━\u001B[0m\u001B[37m\u001B[0m \u001B[1m2s\u001B[0m 9ms/step - accuracy: 0.6045 - loss: 1.1763 - val_accuracy: 0.5631 - val_loss: 1.2913\n",
      "Epoch 7/30\n",
      "\u001B[1m248/248\u001B[0m \u001B[32m━━━━━━━━━━━━━━━━━━━━\u001B[0m\u001B[37m\u001B[0m \u001B[1m2s\u001B[0m 9ms/step - accuracy: 0.6276 - loss: 1.0889 - val_accuracy: 0.5722 - val_loss: 1.3449\n",
      "Epoch 8/30\n",
      "\u001B[1m248/248\u001B[0m \u001B[32m━━━━━━━━━━━━━━━━━━━━\u001B[0m\u001B[37m\u001B[0m \u001B[1m2s\u001B[0m 9ms/step - accuracy: 0.6556 - loss: 1.0248 - val_accuracy: 0.5798 - val_loss: 1.2779\n",
      "Epoch 9/30\n",
      "\u001B[1m248/248\u001B[0m \u001B[32m━━━━━━━━━━━━━━━━━━━━\u001B[0m\u001B[37m\u001B[0m \u001B[1m2s\u001B[0m 9ms/step - accuracy: 0.6884 - loss: 0.9123 - val_accuracy: 0.5798 - val_loss: 1.2553\n",
      "Epoch 10/30\n",
      "\u001B[1m248/248\u001B[0m \u001B[32m━━━━━━━━━━━━━━━━━━━━\u001B[0m\u001B[37m\u001B[0m \u001B[1m2s\u001B[0m 9ms/step - accuracy: 0.7022 - loss: 0.8857 - val_accuracy: 0.6157 - val_loss: 1.1507\n",
      "Epoch 11/30\n",
      "\u001B[1m248/248\u001B[0m \u001B[32m━━━━━━━━━━━━━━━━━━━━\u001B[0m\u001B[37m\u001B[0m \u001B[1m2s\u001B[0m 9ms/step - accuracy: 0.7416 - loss: 0.7735 - val_accuracy: 0.6010 - val_loss: 1.2665\n",
      "Epoch 12/30\n",
      "\u001B[1m248/248\u001B[0m \u001B[32m━━━━━━━━━━━━━━━━━━━━\u001B[0m\u001B[37m\u001B[0m \u001B[1m2s\u001B[0m 9ms/step - accuracy: 0.7559 - loss: 0.7205 - val_accuracy: 0.6015 - val_loss: 1.2443\n",
      "Epoch 13/30\n",
      "\u001B[1m248/248\u001B[0m \u001B[32m━━━━━━━━━━━━━━━━━━━━\u001B[0m\u001B[37m\u001B[0m \u001B[1m2s\u001B[0m 9ms/step - accuracy: 0.7770 - loss: 0.6736 - val_accuracy: 0.5934 - val_loss: 1.3488\n",
      "Epoch 14/30\n",
      "\u001B[1m248/248\u001B[0m \u001B[32m━━━━━━━━━━━━━━━━━━━━\u001B[0m\u001B[37m\u001B[0m \u001B[1m2s\u001B[0m 9ms/step - accuracy: 0.7972 - loss: 0.6156 - val_accuracy: 0.5960 - val_loss: 1.3337\n",
      "Epoch 15/30\n",
      "\u001B[1m248/248\u001B[0m \u001B[32m━━━━━━━━━━━━━━━━━━━━\u001B[0m\u001B[37m\u001B[0m \u001B[1m2s\u001B[0m 8ms/step - accuracy: 0.8175 - loss: 0.5421 - val_accuracy: 0.5929 - val_loss: 1.3564\n",
      "Epoch 16/30\n",
      "\u001B[1m248/248\u001B[0m \u001B[32m━━━━━━━━━━━━━━━━━━━━\u001B[0m\u001B[37m\u001B[0m \u001B[1m2s\u001B[0m 8ms/step - accuracy: 0.8330 - loss: 0.5046 - val_accuracy: 0.6035 - val_loss: 1.4287\n",
      "Epoch 17/30\n",
      "\u001B[1m248/248\u001B[0m \u001B[32m━━━━━━━━━━━━━━━━━━━━\u001B[0m\u001B[37m\u001B[0m \u001B[1m2s\u001B[0m 8ms/step - accuracy: 0.8609 - loss: 0.4413 - val_accuracy: 0.5975 - val_loss: 1.3916\n",
      "Epoch 18/30\n",
      "\u001B[1m248/248\u001B[0m \u001B[32m━━━━━━━━━━━━━━━━━━━━\u001B[0m\u001B[37m\u001B[0m \u001B[1m2s\u001B[0m 9ms/step - accuracy: 0.8481 - loss: 0.4552 - val_accuracy: 0.6101 - val_loss: 1.4460\n",
      "Epoch 19/30\n",
      "\u001B[1m248/248\u001B[0m \u001B[32m━━━━━━━━━━━━━━━━━━━━\u001B[0m\u001B[37m\u001B[0m \u001B[1m2s\u001B[0m 8ms/step - accuracy: 0.8722 - loss: 0.3786 - val_accuracy: 0.6167 - val_loss: 1.4906\n",
      "Epoch 20/30\n",
      "\u001B[1m248/248\u001B[0m \u001B[32m━━━━━━━━━━━━━━━━━━━━\u001B[0m\u001B[37m\u001B[0m \u001B[1m2s\u001B[0m 8ms/step - accuracy: 0.8948 - loss: 0.3245 - val_accuracy: 0.6152 - val_loss: 1.6313\n",
      "Epoch 21/30\n",
      "\u001B[1m248/248\u001B[0m \u001B[32m━━━━━━━━━━━━━━━━━━━━\u001B[0m\u001B[37m\u001B[0m \u001B[1m2s\u001B[0m 8ms/step - accuracy: 0.9000 - loss: 0.3116 - val_accuracy: 0.6177 - val_loss: 1.5922\n",
      "Epoch 22/30\n",
      "\u001B[1m248/248\u001B[0m \u001B[32m━━━━━━━━━━━━━━━━━━━━\u001B[0m\u001B[37m\u001B[0m \u001B[1m2s\u001B[0m 8ms/step - accuracy: 0.9098 - loss: 0.2828 - val_accuracy: 0.6177 - val_loss: 1.7806\n",
      "Epoch 23/30\n",
      "\u001B[1m248/248\u001B[0m \u001B[32m━━━━━━━━━━━━━━━━━━━━\u001B[0m\u001B[37m\u001B[0m \u001B[1m2s\u001B[0m 9ms/step - accuracy: 0.9300 - loss: 0.2322 - val_accuracy: 0.6101 - val_loss: 1.8058\n",
      "Epoch 24/30\n",
      "\u001B[1m248/248\u001B[0m \u001B[32m━━━━━━━━━━━━━━━━━━━━\u001B[0m\u001B[37m\u001B[0m \u001B[1m2s\u001B[0m 9ms/step - accuracy: 0.9169 - loss: 0.2617 - val_accuracy: 0.6212 - val_loss: 1.9375\n",
      "Epoch 25/30\n",
      "\u001B[1m248/248\u001B[0m \u001B[32m━━━━━━━━━━━━━━━━━━━━\u001B[0m\u001B[37m\u001B[0m \u001B[1m2s\u001B[0m 9ms/step - accuracy: 0.9474 - loss: 0.1793 - val_accuracy: 0.6040 - val_loss: 1.9610\n",
      "Epoch 26/30\n",
      "\u001B[1m248/248\u001B[0m \u001B[32m━━━━━━━━━━━━━━━━━━━━\u001B[0m\u001B[37m\u001B[0m \u001B[1m2s\u001B[0m 9ms/step - accuracy: 0.9314 - loss: 0.2089 - val_accuracy: 0.6197 - val_loss: 2.0046\n",
      "Epoch 27/30\n",
      "\u001B[1m248/248\u001B[0m \u001B[32m━━━━━━━━━━━━━━━━━━━━\u001B[0m\u001B[37m\u001B[0m \u001B[1m2s\u001B[0m 10ms/step - accuracy: 0.9484 - loss: 0.1600 - val_accuracy: 0.6217 - val_loss: 2.0815\n",
      "Epoch 28/30\n",
      "\u001B[1m248/248\u001B[0m \u001B[32m━━━━━━━━━━━━━━━━━━━━\u001B[0m\u001B[37m\u001B[0m \u001B[1m2s\u001B[0m 9ms/step - accuracy: 0.9547 - loss: 0.1531 - val_accuracy: 0.6086 - val_loss: 2.2153\n",
      "Epoch 29/30\n",
      "\u001B[1m248/248\u001B[0m \u001B[32m━━━━━━━━━━━━━━━━━━━━\u001B[0m\u001B[37m\u001B[0m \u001B[1m2s\u001B[0m 10ms/step - accuracy: 0.9626 - loss: 0.1234 - val_accuracy: 0.5848 - val_loss: 2.3908\n",
      "Epoch 30/30\n",
      "\u001B[1m248/248\u001B[0m \u001B[32m━━━━━━━━━━━━━━━━━━━━\u001B[0m\u001B[37m\u001B[0m \u001B[1m2s\u001B[0m 9ms/step - accuracy: 0.9601 - loss: 0.1360 - val_accuracy: 0.5909 - val_loss: 2.4679\n",
      "62/62 - 0s - 3ms/step - accuracy: 0.5909 - loss: 2.4679\n",
      "RNN Test Accuracy: 0.5909\n"
     ]
    }
   ],
   "source": [
    "model = hybrid_cnn_lstm_model # name of the model to be trained here\n",
    "\n",
    "history_hybrid = model.fit(X_train_scaled, y_train, epochs=30, validation_data=(X_test_scaled, y_test))\n",
    "test_loss, test_acc = model.evaluate(X_test_scaled, y_test, verbose=2)\n",
    "print(f\"RNN Test Accuracy: {test_acc:.4f}\")"
   ]
  },
  {
   "cell_type": "code",
   "execution_count": 39,
   "id": "12f5764b",
   "metadata": {
    "ExecuteTime": {
     "end_time": "2024-04-20T10:19:29.882917400Z",
     "start_time": "2024-04-20T10:19:29.867387900Z"
    }
   },
   "outputs": [],
   "source": []
  },
  {
   "cell_type": "code",
   "execution_count": 39,
   "id": "46d0d4e8",
   "metadata": {
    "ExecuteTime": {
     "end_time": "2024-04-20T10:19:29.897273200Z",
     "start_time": "2024-04-20T10:19:29.881917800Z"
    }
   },
   "outputs": [],
   "source": []
  },
  {
   "cell_type": "markdown",
   "id": "e0a2db0a",
   "metadata": {},
   "source": [
    "# 5. All Models"
   ]
  },
  {
   "cell_type": "code",
   "execution_count": 40,
   "id": "4a95fe47",
   "metadata": {
    "ExecuteTime": {
     "end_time": "2024-04-20T10:25:17.317868700Z",
     "start_time": "2024-04-20T10:19:29.905584Z"
    }
   },
   "outputs": [
    {
     "name": "stdout",
     "output_type": "stream",
     "text": [
      "Training Fully Connected Neural Network...\n",
      "Fully Connected Neural Network Test Accuracy: 0.7010\n",
      "Training Deep and Wide FCNN...\n",
      "Deep and Wide FCNN Test Accuracy: 0.6965\n",
      "Training Shallow FCNN...\n",
      "Shallow FCNN Test Accuracy: 0.6955\n",
      "Training Batch Normalized FCNN...\n",
      "Batch Normalized FCNN Test Accuracy: 0.7030\n",
      "Training FCNN with Alternative Activations...\n",
      "FCNN with Alternative Activations Test Accuracy: 0.7025\n",
      "Training Regularized FCNN...\n",
      "Regularized FCNN Test Accuracy: 0.7152\n",
      "Training Basic CNN...\n",
      "Basic CNN Test Accuracy: 0.7152\n",
      "Training Deep CNN...\n",
      "Deep CNN Test Accuracy: 0.6727\n",
      "Training Batch Normalized CNN...\n",
      "Batch Normalized CNN Test Accuracy: 0.7263\n",
      "Training Dilated CNN...\n",
      "Dilated CNN Test Accuracy: 0.7010\n",
      "Training Inception CNN...\n",
      "Inception CNN Test Accuracy: 0.6955\n",
      "Training Lightweight CNN...\n",
      "Lightweight CNN Test Accuracy: 0.6889\n",
      "Training Basic RNN...\n",
      "Basic RNN Test Accuracy: 0.7101\n",
      "Training Simple RNN with Increased Depth...\n",
      "Simple RNN with Increased Depth Test Accuracy: 0.6934\n",
      "Training Bidirectional LSTM...\n",
      "Bidirectional LSTM Test Accuracy: 0.7056\n",
      "Training GRU with Layer Normalization...\n",
      "GRU with Layer Normalization Test Accuracy: 0.6793\n",
      "Training Stacked LSTM...\n",
      "Stacked LSTM Test Accuracy: 0.6798\n",
      "Training Hybrid CNN-LSTM...\n",
      "Hybrid CNN-LSTM Test Accuracy: 0.6045\n",
      "Training Hybrid LSTM-CNN...\n",
      "Hybrid LSTM-CNN Test Accuracy: 0.4899\n",
      "Training Hybrid CNN-GRU...\n",
      "Hybrid CNN-GRU Test Accuracy: 0.5980\n",
      "Training Hybrid Bidirectional LSTM-CNN...\n",
      "Hybrid Bidirectional LSTM-CNN Test Accuracy: 0.5884\n",
      "Models ranked by test accuracy:\n",
      "Batch Normalized CNN: 0.7263\n",
      "Regularized FCNN: 0.7152\n",
      "Basic CNN: 0.7152\n",
      "Basic RNN: 0.7101\n",
      "Bidirectional LSTM: 0.7056\n",
      "Batch Normalized FCNN: 0.7030\n",
      "FCNN with Alternative Activations: 0.7025\n",
      "Fully Connected Neural Network: 0.7010\n",
      "Dilated CNN: 0.7010\n",
      "Deep and Wide FCNN: 0.6965\n",
      "Shallow FCNN: 0.6955\n",
      "Inception CNN: 0.6955\n",
      "Simple RNN with Increased Depth: 0.6934\n",
      "Lightweight CNN: 0.6889\n",
      "Stacked LSTM: 0.6798\n",
      "GRU with Layer Normalization: 0.6793\n",
      "Deep CNN: 0.6727\n",
      "Hybrid CNN-LSTM: 0.6045\n",
      "Hybrid CNN-GRU: 0.5980\n",
      "Hybrid Bidirectional LSTM-CNN: 0.5884\n",
      "Hybrid LSTM-CNN: 0.4899\n"
     ]
    }
   ],
   "source": [
    "# List of all models to be trained with their corresponding data reshaping requirements\n",
    "models_to_train = [\n",
    "    {'model': fcnn, 'data': (X_train_scaled, X_test_scaled), 'name': 'Fully Connected Neural Network'},\n",
    "    {'model': deep_wide_fcnn, 'data': (X_train_scaled, X_test_scaled), 'name': 'Deep and Wide FCNN'},\n",
    "    {'model': shallow_fcnn, 'data': (X_train_scaled, X_test_scaled), 'name': 'Shallow FCNN'},\n",
    "    {'model': bn_fcnn, 'data': (X_train_scaled, X_test_scaled), 'name': 'Batch Normalized FCNN'},\n",
    "    {'model': alt_act_fcnn, 'data': (X_train_scaled, X_test_scaled), 'name': 'FCNN with Alternative Activations'},\n",
    "    {'model': reg_fcnn, 'data': (X_train_scaled, X_test_scaled), 'name': 'Regularized FCNN'},\n",
    "    {'model': cnn, 'data': (X_train_cnn, X_test_cnn), 'name': 'Basic CNN'},\n",
    "    {'model': deep_cnn, 'data': (X_train_cnn, X_test_cnn), 'name': 'Deep CNN'},\n",
    "    {'model': bn_cnn, 'data': (X_train_cnn, X_test_cnn), 'name': 'Batch Normalized CNN'},\n",
    "    {'model': dilated_cnn, 'data': (X_train_cnn, X_test_cnn), 'name': 'Dilated CNN'},\n",
    "    {'model': inception_cnn, 'data': (X_train_cnn, X_test_cnn), 'name': 'Inception CNN'},\n",
    "    {'model': lightweight_cnn, 'data': (X_train_cnn, X_test_cnn), 'name': 'Lightweight CNN'},\n",
    "    {'model': rnn, 'data': (X_train_rnn, X_test_rnn), 'name': 'Basic RNN'},\n",
    "    {'model': simple_rnn, 'data': (X_train_rnn, X_test_rnn), 'name': 'Simple RNN with Increased Depth'},\n",
    "    {'model': bidirectional_lstm, 'data': (X_train_rnn, X_test_rnn), 'name': 'Bidirectional LSTM'},\n",
    "    {'model': gru, 'data': (X_train_rnn, X_test_rnn), 'name': 'GRU with Layer Normalization'},\n",
    "    {'model': stacked_lstm, 'data': (X_train_rnn, X_test_rnn), 'name': 'Stacked LSTM'},\n",
    "    {'model': hybrid_cnn_lstm_model, 'data': (X_train_scaled, X_test_scaled), 'name': 'Hybrid CNN-LSTM'},\n",
    "    {'model': hybrid_lstm_cnn_model, 'data': (X_train_scaled, X_test_scaled), 'name': 'Hybrid LSTM-CNN'},\n",
    "    {'model': hybrid_cnn_gru_model, 'data': (X_train_scaled, X_test_scaled), 'name': 'Hybrid CNN-GRU'},\n",
    "    {'model': hybrid_bidirectional_lstm_cnn_model, 'data': (X_train_scaled, X_test_scaled), 'name': 'Hybrid Bidirectional LSTM-CNN'}\n",
    "]\n",
    "\n",
    "results = []\n",
    "\n",
    "# Training and evaluating each model\n",
    "for entry in models_to_train:\n",
    "    model = entry['model']\n",
    "    X_train, X_test = entry['data']\n",
    "    y_train, y_test = y_train, y_test  # Assuming y_train and y_test are defined globally\n",
    "\n",
    "    print(f\"Training {entry['name']}...\")\n",
    "    history = model.fit(X_train, y_train, epochs=10, validation_data=(X_test, y_test), verbose=0)\n",
    "    test_loss, test_acc = model.evaluate(X_test, y_test, verbose=0)\n",
    "    print(f\"{entry['name']} Test Accuracy: {test_acc:.4f}\")\n",
    "\n",
    "    results.append({'model': entry['name'], 'accuracy': test_acc})\n",
    "\n",
    "# Sorting results by accuracy\n",
    "sorted_results = sorted(results, key=lambda x: x['accuracy'], reverse=True)\n",
    "\n",
    "# Displaying sorted results\n",
    "print(\"Models ranked by test accuracy:\")\n",
    "for result in sorted_results:\n",
    "    print(f\"{result['model']}: {result['accuracy']:.4f}\")\n"
   ]
  }
 ],
 "metadata": {
  "kernelspec": {
   "display_name": "Python 3 (ipykernel)",
   "language": "python",
   "name": "python3"
  },
  "language_info": {
   "codemirror_mode": {
    "name": "ipython",
    "version": 3
   },
   "file_extension": ".py",
   "mimetype": "text/x-python",
   "name": "python",
   "nbconvert_exporter": "python",
   "pygments_lexer": "ipython3",
   "version": "3.10.8"
  }
 },
 "nbformat": 4,
 "nbformat_minor": 5
}
