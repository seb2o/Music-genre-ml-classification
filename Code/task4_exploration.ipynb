{
 "cells": [
  {
   "cell_type": "markdown",
   "id": "86662550",
   "metadata": {},
   "source": [
    "# Task 4 Exploration"
   ]
  },
  {
   "cell_type": "code",
   "execution_count": 44,
   "id": "06fcd416",
   "metadata": {
    "ExecuteTime": {
     "end_time": "2024-04-23T07:29:49.479916Z",
     "start_time": "2024-04-23T07:29:49.190249500Z"
    }
   },
   "outputs": [],
   "source": [
    "import pandas as pd\n",
    "import numpy as np\n",
    "import matplotlib.pyplot as plt\n",
    "from sklearn.preprocessing import StandardScaler\n",
    "from tensorflow.keras import layers, models, callbacks, metrics, regularizers\n",
    "from tensorflow.keras.layers import Concatenate, Input\n",
    "\n",
    "def load_and_combine_data(filenames):\n",
    "    data_frames = []\n",
    "    for file in filenames:\n",
    "        df = pd.read_csv(file, sep='\\t')\n",
    "        data_frames.append(df)\n",
    "    combined_df = pd.concat(data_frames, ignore_index=True)\n",
    "    return combined_df\n",
    "\n",
    "def train_val_split(df, type_col='Type', target_col='GenreID'):\n",
    "    train_data = df[df[type_col] == 'Train']\n",
    "    test_data = df[df[type_col] == 'Test']\n",
    "    X_train = train_data.drop([type_col, target_col], axis=1)\n",
    "    y_train = train_data[target_col]\n",
    "    X_test = test_data.drop([type_col, target_col], axis=1)\n",
    "    y_test = test_data[target_col]\n",
    "    \n",
    "    scaler = StandardScaler()\n",
    "    X_train_scaled = scaler.fit_transform(X_train)\n",
    "    X_test_scaled = scaler.transform(X_test)\n",
    "    \n",
    "    return X_train_scaled, y_train, X_test_scaled, y_test"
   ]
  },
  {
   "cell_type": "markdown",
   "id": "d6042a09",
   "metadata": {},
   "source": [
    "Step 1: choose which dataset to include (include path)"
   ]
  },
  {
   "cell_type": "code",
   "execution_count": 45,
   "id": "3cca6a0c",
   "metadata": {
    "ExecuteTime": {
     "end_time": "2024-04-23T07:29:49.512054800Z",
     "start_time": "2024-04-23T07:29:49.482913700Z"
    }
   },
   "outputs": [],
   "source": [
    "data_paths = [\n",
    "    # '../Classification Music/GenreClassData_10s.txt',\n",
    "    '../Classification Music/GenreClassData_30s.txt',\n",
    "    # '../Classification Music/GenreClassData_5s.txt'\n",
    "] "
   ]
  },
  {
   "cell_type": "markdown",
   "id": "2b1b7f03",
   "metadata": {},
   "source": [
    "Step 2: load and prepare data"
   ]
  },
  {
   "cell_type": "code",
   "execution_count": 46,
   "id": "63dea406",
   "metadata": {
    "ExecuteTime": {
     "end_time": "2024-04-23T07:29:49.564661600Z",
     "start_time": "2024-04-23T07:29:49.515057Z"
    }
   },
   "outputs": [
    {
     "name": "stdout",
     "output_type": "stream",
     "text": [
      "Combined Dataframe shape: (990, 65)\n"
     ]
    }
   ],
   "source": [
    "df = load_and_combine_data(data_paths)\n",
    "feature_columns = [col for col in df.columns if col not in ['Type', 'GenreID', 'Genre', 'Track ID', 'File']]\n",
    "\n",
    "df = df[['Type', 'GenreID'] + feature_columns] # keeping only relevent columns\n",
    "\n",
    "print(\"Combined Dataframe shape:\", df.shape) \n",
    "\n",
    "X_train_scaled, y_train, X_test_scaled, y_test = train_val_split(df)"
   ]
  },
  {
   "cell_type": "markdown",
   "id": "9ff74e49",
   "metadata": {},
   "source": [
    "# 1. Fully Connected Neural Network (FCNN) Section"
   ]
  },
  {
   "cell_type": "markdown",
   "id": "17ecb83f",
   "metadata": {},
   "source": [
    "### 1.1 Create FCNN model"
   ]
  },
  {
   "cell_type": "code",
   "execution_count": 47,
   "id": "4d595e6d",
   "metadata": {
    "ExecuteTime": {
     "end_time": "2024-04-23T07:29:49.654013400Z",
     "start_time": "2024-04-23T07:29:49.544674900Z"
    }
   },
   "outputs": [
    {
     "name": "stderr",
     "output_type": "stream",
     "text": [
      "C:\\Users\\menbu\\PycharmProjects\\Music Genre Classification\\venv\\lib\\site-packages\\keras\\src\\layers\\core\\dense.py:86: UserWarning: Do not pass an `input_shape`/`input_dim` argument to a layer. When using Sequential models, prefer using an `Input(shape)` object as the first layer in the model instead.\n",
      "  super().__init__(activity_regularizer=activity_regularizer, **kwargs)\n"
     ]
    }
   ],
   "source": [
    "fcnn = models.Sequential([\n",
    "    layers.Dense(128, activation='relu', input_shape=(X_train_scaled.shape[1],)),\n",
    "    layers.Dense(128, activation='relu'),\n",
    "    layers.Dropout(0.3),\n",
    "    layers.Dense(128, activation='relu'),\n",
    "    layers.Dense(10, activation='softmax')\n",
    "])\n",
    "fcnn.compile(optimizer='adam', loss='sparse_categorical_crossentropy', metrics=['accuracy'])\n"
   ]
  },
  {
   "cell_type": "markdown",
   "id": "6e7e4009",
   "metadata": {},
   "source": [
    "### 1.1.1 Alternative FCNN architectures"
   ]
  },
  {
   "cell_type": "markdown",
   "id": "511ef3f5",
   "metadata": {},
   "source": [
    "### Deep and Wide FCNN"
   ]
  },
  {
   "cell_type": "code",
   "execution_count": 48,
   "id": "35fb85d0",
   "metadata": {
    "ExecuteTime": {
     "end_time": "2024-04-23T07:29:49.686544700Z",
     "start_time": "2024-04-23T07:29:49.591911500Z"
    }
   },
   "outputs": [],
   "source": [
    "deep_wide_fcnn = models.Sequential([\n",
    "    layers.Dense(256, activation='relu', input_shape=(X_train_scaled.shape[1],)),\n",
    "    layers.Dense(256, activation='relu'),\n",
    "    layers.Dense(256, activation='relu'),\n",
    "    layers.Dropout(0.5),\n",
    "    layers.Dense(256, activation='relu'),\n",
    "    layers.Dense(256, activation='relu'),\n",
    "    layers.Dense(10, activation='softmax')\n",
    "])\n",
    "deep_wide_fcnn.compile(optimizer='adam', loss='sparse_categorical_crossentropy', metrics=['accuracy'])\n"
   ]
  },
  {
   "cell_type": "markdown",
   "id": "a6f5feb3",
   "metadata": {},
   "source": [
    "### Shallow Network"
   ]
  },
  {
   "cell_type": "code",
   "execution_count": 49,
   "id": "31454dcb",
   "metadata": {
    "ExecuteTime": {
     "end_time": "2024-04-23T07:29:49.702111100Z",
     "start_time": "2024-04-23T07:29:49.638011Z"
    }
   },
   "outputs": [],
   "source": [
    "shallow_fcnn = models.Sequential([\n",
    "    layers.Dense(64, activation='relu', input_shape=(X_train_scaled.shape[1],)),\n",
    "    layers.Dropout(0.2),\n",
    "    layers.Dense(10, activation='softmax')\n",
    "])\n",
    "shallow_fcnn.compile(optimizer='adam', loss='sparse_categorical_crossentropy', metrics=['accuracy'])"
   ]
  },
  {
   "cell_type": "markdown",
   "id": "89604bb6",
   "metadata": {},
   "source": [
    "### FCNN with Batch Normalization"
   ]
  },
  {
   "cell_type": "code",
   "execution_count": 50,
   "id": "54e4f349",
   "metadata": {
    "ExecuteTime": {
     "end_time": "2024-04-23T07:29:49.737155200Z",
     "start_time": "2024-04-23T07:29:49.670542300Z"
    }
   },
   "outputs": [],
   "source": [
    "bn_fcnn = models.Sequential([\n",
    "    layers.Dense(128, input_shape=(X_train_scaled.shape[1],)),\n",
    "    layers.BatchNormalization(),\n",
    "    layers.Activation('relu'),\n",
    "    layers.Dense(128),\n",
    "    layers.BatchNormalization(),\n",
    "    layers.Activation('relu'),\n",
    "    layers.Dense(128),\n",
    "    layers.BatchNormalization(),\n",
    "    layers.Activation('relu'),\n",
    "    layers.Dropout(0.3),\n",
    "    layers.Dense(10, activation='softmax')\n",
    "])\n",
    "bn_fcnn.compile(optimizer='adam', loss='sparse_categorical_crossentropy', metrics=['accuracy'])"
   ]
  },
  {
   "cell_type": "markdown",
   "id": "e3b471e6",
   "metadata": {},
   "source": [
    "### FCNN with Alternative Activation Functions"
   ]
  },
  {
   "cell_type": "code",
   "execution_count": 51,
   "id": "46224ee0",
   "metadata": {
    "ExecuteTime": {
     "end_time": "2024-04-23T07:29:49.804397800Z",
     "start_time": "2024-04-23T07:29:49.735152200Z"
    }
   },
   "outputs": [],
   "source": [
    "alt_act_fcnn = models.Sequential([\n",
    "    layers.Dense(128, activation='elu', input_shape=(X_train_scaled.shape[1],)),\n",
    "    layers.Dense(128, activation='elu'),\n",
    "    layers.Dropout(0.3),\n",
    "    layers.Dense(128, activation='elu'),\n",
    "    layers.Dense(10, activation='softmax')\n",
    "])\n",
    "alt_act_fcnn.compile(optimizer='adam', loss='sparse_categorical_crossentropy', metrics=['accuracy'])\n"
   ]
  },
  {
   "cell_type": "markdown",
   "id": "da8cfd13",
   "metadata": {},
   "source": [
    "### FCNN with L1/L2 Regularization"
   ]
  },
  {
   "cell_type": "code",
   "execution_count": 52,
   "id": "8ddc4fa7",
   "metadata": {
    "ExecuteTime": {
     "end_time": "2024-04-23T07:29:49.832726500Z",
     "start_time": "2024-04-23T07:29:49.764551300Z"
    }
   },
   "outputs": [],
   "source": [
    "reg_fcnn = models.Sequential([\n",
    "    layers.Dense(128, activation='relu', kernel_regularizer=regularizers.l2(0.01), input_shape=(X_train_scaled.shape[1],)),\n",
    "    layers.Dense(128, activation='relu', kernel_regularizer=regularizers.l2(0.01)),\n",
    "    layers.Dropout(0.3),\n",
    "    layers.Dense(128, activation='relu', kernel_regularizer=regularizers.l2(0.01)),\n",
    "    layers.Dense(10, activation='softmax')\n",
    "])\n",
    "reg_fcnn.compile(optimizer='adam', loss='sparse_categorical_crossentropy', metrics=['accuracy'])\n"
   ]
  },
  {
   "cell_type": "code",
   "execution_count": 52,
   "id": "30be5a10",
   "metadata": {
    "ExecuteTime": {
     "end_time": "2024-04-23T07:29:49.837729700Z",
     "start_time": "2024-04-23T07:29:49.792400100Z"
    }
   },
   "outputs": [],
   "source": []
  },
  {
   "cell_type": "markdown",
   "id": "3fd44378",
   "metadata": {},
   "source": [
    "### 1.2 Train FCNN"
   ]
  },
  {
   "cell_type": "markdown",
   "id": "387f9985",
   "metadata": {},
   "source": [
    "simply change the \"model\" parameter to change the model to train"
   ]
  },
  {
   "cell_type": "code",
   "execution_count": 53,
   "id": "341f5096",
   "metadata": {
    "ExecuteTime": {
     "end_time": "2024-04-23T07:29:52.569159800Z",
     "start_time": "2024-04-23T07:29:49.808273600Z"
    }
   },
   "outputs": [
    {
     "name": "stdout",
     "output_type": "stream",
     "text": [
      "Epoch 1/10\n",
      "\u001B[1m25/25\u001B[0m \u001B[32m━━━━━━━━━━━━━━━━━━━━\u001B[0m\u001B[37m\u001B[0m \u001B[1m2s\u001B[0m 8ms/step - accuracy: 0.2271 - loss: 2.1411 - val_accuracy: 0.5000 - val_loss: 1.4320\n",
      "Epoch 2/10\n",
      "\u001B[1m25/25\u001B[0m \u001B[32m━━━━━━━━━━━━━━━━━━━━\u001B[0m\u001B[37m\u001B[0m \u001B[1m0s\u001B[0m 4ms/step - accuracy: 0.4816 - loss: 1.3993 - val_accuracy: 0.5909 - val_loss: 1.1206\n",
      "Epoch 3/10\n",
      "\u001B[1m25/25\u001B[0m \u001B[32m━━━━━━━━━━━━━━━━━━━━\u001B[0m\u001B[37m\u001B[0m \u001B[1m0s\u001B[0m 4ms/step - accuracy: 0.6093 - loss: 1.0460 - val_accuracy: 0.6717 - val_loss: 0.9878\n",
      "Epoch 4/10\n",
      "\u001B[1m25/25\u001B[0m \u001B[32m━━━━━━━━━━━━━━━━━━━━\u001B[0m\u001B[37m\u001B[0m \u001B[1m0s\u001B[0m 3ms/step - accuracy: 0.7183 - loss: 0.8534 - val_accuracy: 0.7020 - val_loss: 0.9449\n",
      "Epoch 5/10\n",
      "\u001B[1m25/25\u001B[0m \u001B[32m━━━━━━━━━━━━━━━━━━━━\u001B[0m\u001B[37m\u001B[0m \u001B[1m0s\u001B[0m 4ms/step - accuracy: 0.8039 - loss: 0.6407 - val_accuracy: 0.7071 - val_loss: 0.8621\n",
      "Epoch 6/10\n",
      "\u001B[1m25/25\u001B[0m \u001B[32m━━━━━━━━━━━━━━━━━━━━\u001B[0m\u001B[37m\u001B[0m \u001B[1m0s\u001B[0m 4ms/step - accuracy: 0.8535 - loss: 0.5136 - val_accuracy: 0.7222 - val_loss: 0.9003\n",
      "Epoch 7/10\n",
      "\u001B[1m25/25\u001B[0m \u001B[32m━━━━━━━━━━━━━━━━━━━━\u001B[0m\u001B[37m\u001B[0m \u001B[1m0s\u001B[0m 3ms/step - accuracy: 0.8450 - loss: 0.4368 - val_accuracy: 0.7071 - val_loss: 0.9702\n",
      "Epoch 8/10\n",
      "\u001B[1m25/25\u001B[0m \u001B[32m━━━━━━━━━━━━━━━━━━━━\u001B[0m\u001B[37m\u001B[0m \u001B[1m0s\u001B[0m 3ms/step - accuracy: 0.8704 - loss: 0.3596 - val_accuracy: 0.7121 - val_loss: 1.0392\n",
      "Epoch 9/10\n",
      "\u001B[1m25/25\u001B[0m \u001B[32m━━━━━━━━━━━━━━━━━━━━\u001B[0m\u001B[37m\u001B[0m \u001B[1m0s\u001B[0m 3ms/step - accuracy: 0.9032 - loss: 0.2791 - val_accuracy: 0.7273 - val_loss: 0.9925\n",
      "Epoch 10/10\n",
      "\u001B[1m25/25\u001B[0m \u001B[32m━━━━━━━━━━━━━━━━━━━━\u001B[0m\u001B[37m\u001B[0m \u001B[1m0s\u001B[0m 3ms/step - accuracy: 0.9404 - loss: 0.1817 - val_accuracy: 0.7172 - val_loss: 1.1034\n",
      "7/7 - 0s - 3ms/step - accuracy: 0.7172 - loss: 1.1034\n",
      "FCNN Test Accuracy: 0.7172\n"
     ]
    }
   ],
   "source": [
    "model = deep_wide_fcnn # name of the model to be trained here\n",
    "\n",
    "history_fcnn = model.fit(X_train_scaled, y_train, epochs=10, validation_data=(X_test_scaled, y_test))\n",
    "test_loss, test_acc = model.evaluate(X_test_scaled, y_test, verbose=2)\n",
    "print(f\"FCNN Test Accuracy: {test_acc:.4f}\")"
   ]
  },
  {
   "cell_type": "code",
   "execution_count": 53,
   "id": "cc228f8c",
   "metadata": {
    "ExecuteTime": {
     "end_time": "2024-04-23T07:29:52.593223700Z",
     "start_time": "2024-04-23T07:29:52.570158400Z"
    }
   },
   "outputs": [],
   "source": []
  },
  {
   "cell_type": "markdown",
   "id": "5e708ea0",
   "metadata": {},
   "source": [
    "# 2. Convolutional Neural Network (CNN) Section"
   ]
  },
  {
   "cell_type": "markdown",
   "id": "fca0ab62",
   "metadata": {},
   "source": [
    "### 2.1 Reshape data for CNN"
   ]
  },
  {
   "cell_type": "code",
   "execution_count": 54,
   "id": "2b391564",
   "metadata": {
    "ExecuteTime": {
     "end_time": "2024-04-23T07:29:52.604879700Z",
     "start_time": "2024-04-23T07:29:52.584158600Z"
    }
   },
   "outputs": [],
   "source": [
    "X_train_cnn = X_train_scaled.reshape(X_train_scaled.shape[0], X_train_scaled.shape[1], 1)\n",
    "X_test_cnn = X_test_scaled.reshape(X_test_scaled.shape[0], X_test_scaled.shape[1], 1)\n"
   ]
  },
  {
   "cell_type": "markdown",
   "id": "e054d96d",
   "metadata": {},
   "source": [
    "### 2.2 Create CNN model"
   ]
  },
  {
   "cell_type": "code",
   "execution_count": 55,
   "id": "c696950a",
   "metadata": {
    "ExecuteTime": {
     "end_time": "2024-04-23T07:29:52.646152Z",
     "start_time": "2024-04-23T07:29:52.602837400Z"
    }
   },
   "outputs": [
    {
     "name": "stderr",
     "output_type": "stream",
     "text": [
      "C:\\Users\\menbu\\PycharmProjects\\Music Genre Classification\\venv\\lib\\site-packages\\keras\\src\\layers\\convolutional\\base_conv.py:99: UserWarning: Do not pass an `input_shape`/`input_dim` argument to a layer. When using Sequential models, prefer using an `Input(shape)` object as the first layer in the model instead.\n",
      "  super().__init__(\n"
     ]
    }
   ],
   "source": [
    "cnn = models.Sequential([\n",
    "    layers.Conv1D(32, 3, activation='relu', input_shape=(X_train_scaled.shape[1], 1)),\n",
    "    layers.MaxPooling1D(2),\n",
    "    layers.Conv1D(32, 3, activation='relu'),\n",
    "    layers.MaxPooling1D(2),\n",
    "    layers.Flatten(),\n",
    "    layers.Dense(128, activation='relu'),\n",
    "    layers.Dropout(0.3),\n",
    "    layers.Dense(10, activation='softmax')\n",
    "])\n",
    "cnn.compile(optimizer='adam', loss='sparse_categorical_crossentropy', metrics=['accuracy'])\n"
   ]
  },
  {
   "cell_type": "markdown",
   "id": "2cd65662",
   "metadata": {},
   "source": [
    "### 2.2.1 Alternative CNN architectures"
   ]
  },
  {
   "cell_type": "markdown",
   "id": "79e02990",
   "metadata": {},
   "source": [
    "### Increased Depth and Filters"
   ]
  },
  {
   "cell_type": "code",
   "execution_count": 56,
   "id": "5f8f7548",
   "metadata": {
    "ExecuteTime": {
     "end_time": "2024-04-23T07:29:52.691273300Z",
     "start_time": "2024-04-23T07:29:52.648149100Z"
    }
   },
   "outputs": [],
   "source": [
    "deep_cnn = models.Sequential([\n",
    "    layers.Conv1D(64, 3, activation='relu', padding='same', input_shape=(X_train_scaled.shape[1], 1)),\n",
    "    layers.MaxPooling1D(2),\n",
    "    layers.Conv1D(64, 3, activation='relu', padding='same'),\n",
    "    layers.MaxPooling1D(2),\n",
    "    layers.Conv1D(128, 3, activation='relu', padding='same'),\n",
    "    layers.MaxPooling1D(2),\n",
    "    layers.Conv1D(128, 3, activation='relu', padding='same'),\n",
    "    layers.MaxPooling1D(2),\n",
    "    layers.Flatten(),\n",
    "    layers.Dense(256, activation='relu'),\n",
    "    layers.Dropout(0.5),\n",
    "    layers.Dense(10, activation='softmax')\n",
    "])\n",
    "deep_cnn.compile(optimizer='adam', loss='sparse_categorical_crossentropy', metrics=['accuracy'])\n"
   ]
  },
  {
   "cell_type": "markdown",
   "id": "bc11db8a",
   "metadata": {},
   "source": [
    "### CNN with Batch Normalization"
   ]
  },
  {
   "cell_type": "code",
   "execution_count": 57,
   "id": "36d84346",
   "metadata": {
    "ExecuteTime": {
     "end_time": "2024-04-23T07:29:52.754684500Z",
     "start_time": "2024-04-23T07:29:52.692708500Z"
    }
   },
   "outputs": [],
   "source": [
    "bn_cnn = models.Sequential([\n",
    "    layers.Conv1D(32, 3, padding='same', input_shape=(X_train_scaled.shape[1], 1)),\n",
    "    layers.BatchNormalization(),\n",
    "    layers.Activation('relu'),\n",
    "    layers.MaxPooling1D(2),\n",
    "    layers.Conv1D(64, 3, padding='same'),\n",
    "    layers.BatchNormalization(),\n",
    "    layers.Activation('relu'),\n",
    "    layers.MaxPooling1D(2),\n",
    "    layers.Flatten(),\n",
    "    layers.Dense(128, activation='relu'),\n",
    "    layers.Dropout(0.3),\n",
    "    layers.Dense(10, activation='softmax')\n",
    "])\n",
    "bn_cnn.compile(optimizer='adam', loss='sparse_categorical_crossentropy', metrics=['accuracy'])\n"
   ]
  },
  {
   "cell_type": "markdown",
   "id": "48ce51fa",
   "metadata": {},
   "source": [
    "### CNN with Dilated Convolutions"
   ]
  },
  {
   "cell_type": "code",
   "execution_count": 58,
   "id": "eade1111",
   "metadata": {
    "ExecuteTime": {
     "end_time": "2024-04-23T07:29:52.800175600Z",
     "start_time": "2024-04-23T07:29:52.755684300Z"
    }
   },
   "outputs": [],
   "source": [
    "dilated_cnn = models.Sequential([\n",
    "    layers.Conv1D(32, 3, dilation_rate=1, activation='relu', input_shape=(X_train_scaled.shape[1], 1)),\n",
    "    layers.Conv1D(32, 3, dilation_rate=2, activation='relu'),\n",
    "    layers.MaxPooling1D(2),\n",
    "    layers.Conv1D(64, 3, dilation_rate=2, activation='relu'),\n",
    "    layers.MaxPooling1D(2),\n",
    "    layers.Flatten(),\n",
    "    layers.Dense(128, activation='relu'),\n",
    "    layers.Dropout(0.3),\n",
    "    layers.Dense(10, activation='softmax')\n",
    "])\n",
    "dilated_cnn.compile(optimizer='adam', loss='sparse_categorical_crossentropy', metrics=['accuracy'])\n"
   ]
  },
  {
   "cell_type": "markdown",
   "id": "e0326f35",
   "metadata": {},
   "source": [
    "### CNN with Inception Modules"
   ]
  },
  {
   "cell_type": "code",
   "execution_count": 59,
   "id": "57ee4795",
   "metadata": {
    "ExecuteTime": {
     "end_time": "2024-04-23T07:29:52.878920600Z",
     "start_time": "2024-04-23T07:29:52.804170600Z"
    }
   },
   "outputs": [],
   "source": [
    "def inception_module(input_tensor, filter_operation):\n",
    "    t1 = layers.Conv1D(filter_operation, 1, padding='same', activation='relu')(input_tensor)\n",
    "\n",
    "    t2 = layers.Conv1D(filter_operation, 1, padding='same', activation='relu')(input_tensor)\n",
    "    t2 = layers.Conv1D(filter_operation, 3, padding='same', activation='relu')(t2)\n",
    "\n",
    "    t3 = layers.Conv1D(filter_operation, 1, padding='same', activation='relu')(input_tensor)\n",
    "    t3 = layers.Conv1D(filter_operation, 5, padding='same', activation='relu')(t3)\n",
    "\n",
    "    t4 = layers.MaxPooling1D(3, strides=1, padding='same')(input_tensor)\n",
    "    t4 = layers.Conv1D(filter_operation, 1, padding='same', activation='relu')(t4)\n",
    "\n",
    "    output = layers.Concatenate()([t1, t2, t3, t4])\n",
    "    return output\n",
    "\n",
    "input_layer = Input(shape=(X_train_scaled.shape[1], 1))\n",
    "x = inception_module(input_layer, 32)\n",
    "x = layers.MaxPooling1D(2)(x)\n",
    "x = inception_module(x, 64)\n",
    "x = layers.MaxPooling1D(2)(x)\n",
    "x = layers.Flatten()(x)\n",
    "x = layers.Dense(256, activation='relu')(x)\n",
    "x = layers.Dropout(0.3)(x)\n",
    "output_layer = layers.Dense(10, activation='softmax')(x)\n",
    "\n",
    "inception_cnn = models.Model(inputs=input_layer, outputs=output_layer)\n",
    "inception_cnn.compile(optimizer='adam', loss='sparse_categorical_crossentropy', metrics=['accuracy'])\n"
   ]
  },
  {
   "cell_type": "markdown",
   "id": "e24c49e0",
   "metadata": {},
   "source": [
    "### Lightweight CNN"
   ]
  },
  {
   "cell_type": "code",
   "execution_count": 60,
   "id": "b1441810",
   "metadata": {
    "ExecuteTime": {
     "end_time": "2024-04-23T07:29:52.919481700Z",
     "start_time": "2024-04-23T07:29:52.879933700Z"
    }
   },
   "outputs": [],
   "source": [
    "lightweight_cnn = models.Sequential([\n",
    "    layers.Conv1D(16, 3, activation='relu', input_shape=(X_train_scaled.shape[1], 1)),\n",
    "    layers.MaxPooling1D(2),\n",
    "    layers.Conv1D(16, 3, activation='relu'),\n",
    "    layers.MaxPooling1D(2),\n",
    "    layers.Flatten(),\n",
    "    layers.Dense(64, activation='relu'),\n",
    "    layers.Dropout(0.2),\n",
    "    layers.Dense(10, activation='softmax')\n",
    "])\n",
    "lightweight_cnn.compile(optimizer='adam', loss='sparse_categorical_crossentropy', metrics=['accuracy'])"
   ]
  },
  {
   "cell_type": "code",
   "execution_count": 60,
   "id": "56466f31",
   "metadata": {
    "ExecuteTime": {
     "end_time": "2024-04-23T07:29:52.927995600Z",
     "start_time": "2024-04-23T07:29:52.911483Z"
    }
   },
   "outputs": [],
   "source": []
  },
  {
   "cell_type": "markdown",
   "id": "5797341f",
   "metadata": {},
   "source": [
    "### 2.3 Train CNN model"
   ]
  },
  {
   "cell_type": "markdown",
   "id": "c377833e",
   "metadata": {},
   "source": [
    "simply change the \"model\" parameter to change the model to train"
   ]
  },
  {
   "cell_type": "code",
   "execution_count": 61,
   "id": "f49f8b9d",
   "metadata": {
    "ExecuteTime": {
     "end_time": "2024-04-23T07:29:55.634290300Z",
     "start_time": "2024-04-23T07:29:52.928994800Z"
    }
   },
   "outputs": [
    {
     "name": "stdout",
     "output_type": "stream",
     "text": [
      "Epoch 1/10\n",
      "\u001B[1m25/25\u001B[0m \u001B[32m━━━━━━━━━━━━━━━━━━━━\u001B[0m\u001B[37m\u001B[0m \u001B[1m1s\u001B[0m 10ms/step - accuracy: 0.2609 - loss: 2.2391 - val_accuracy: 0.5101 - val_loss: 1.9206\n",
      "Epoch 2/10\n",
      "\u001B[1m25/25\u001B[0m \u001B[32m━━━━━━━━━━━━━━━━━━━━\u001B[0m\u001B[37m\u001B[0m \u001B[1m0s\u001B[0m 5ms/step - accuracy: 0.5823 - loss: 1.1847 - val_accuracy: 0.5707 - val_loss: 1.7884\n",
      "Epoch 3/10\n",
      "\u001B[1m25/25\u001B[0m \u001B[32m━━━━━━━━━━━━━━━━━━━━\u001B[0m\u001B[37m\u001B[0m \u001B[1m0s\u001B[0m 5ms/step - accuracy: 0.6606 - loss: 0.9673 - val_accuracy: 0.4798 - val_loss: 1.6982\n",
      "Epoch 4/10\n",
      "\u001B[1m25/25\u001B[0m \u001B[32m━━━━━━━━━━━━━━━━━━━━\u001B[0m\u001B[37m\u001B[0m \u001B[1m0s\u001B[0m 5ms/step - accuracy: 0.7238 - loss: 0.7945 - val_accuracy: 0.4798 - val_loss: 1.6313\n",
      "Epoch 5/10\n",
      "\u001B[1m25/25\u001B[0m \u001B[32m━━━━━━━━━━━━━━━━━━━━\u001B[0m\u001B[37m\u001B[0m \u001B[1m0s\u001B[0m 5ms/step - accuracy: 0.7836 - loss: 0.6847 - val_accuracy: 0.4394 - val_loss: 1.5892\n",
      "Epoch 6/10\n",
      "\u001B[1m25/25\u001B[0m \u001B[32m━━━━━━━━━━━━━━━━━━━━\u001B[0m\u001B[37m\u001B[0m \u001B[1m0s\u001B[0m 5ms/step - accuracy: 0.7788 - loss: 0.6043 - val_accuracy: 0.4040 - val_loss: 1.5988\n",
      "Epoch 7/10\n",
      "\u001B[1m25/25\u001B[0m \u001B[32m━━━━━━━━━━━━━━━━━━━━\u001B[0m\u001B[37m\u001B[0m \u001B[1m0s\u001B[0m 5ms/step - accuracy: 0.8413 - loss: 0.4941 - val_accuracy: 0.5000 - val_loss: 1.4020\n",
      "Epoch 8/10\n",
      "\u001B[1m25/25\u001B[0m \u001B[32m━━━━━━━━━━━━━━━━━━━━\u001B[0m\u001B[37m\u001B[0m \u001B[1m0s\u001B[0m 5ms/step - accuracy: 0.8785 - loss: 0.4290 - val_accuracy: 0.4646 - val_loss: 1.4321\n",
      "Epoch 9/10\n",
      "\u001B[1m25/25\u001B[0m \u001B[32m━━━━━━━━━━━━━━━━━━━━\u001B[0m\u001B[37m\u001B[0m \u001B[1m0s\u001B[0m 5ms/step - accuracy: 0.8874 - loss: 0.3384 - val_accuracy: 0.5758 - val_loss: 1.2112\n",
      "Epoch 10/10\n",
      "\u001B[1m25/25\u001B[0m \u001B[32m━━━━━━━━━━━━━━━━━━━━\u001B[0m\u001B[37m\u001B[0m \u001B[1m0s\u001B[0m 5ms/step - accuracy: 0.8990 - loss: 0.3086 - val_accuracy: 0.5404 - val_loss: 1.2600\n",
      "7/7 - 0s - 3ms/step - accuracy: 0.5404 - loss: 1.2600\n",
      "CNN Test Accuracy: 0.5404\n"
     ]
    }
   ],
   "source": [
    "model = bn_cnn # name of the model to be trained here\n",
    "\n",
    "history_cnn = model.fit(X_train_cnn, y_train, epochs=10, validation_data=(X_test_cnn, y_test))\n",
    "test_loss, test_acc = model.evaluate(X_test_cnn, y_test, verbose=2)\n",
    "print(f\"CNN Test Accuracy: {test_acc:.4f}\")"
   ]
  },
  {
   "cell_type": "code",
   "execution_count": 61,
   "id": "1a4f4379",
   "metadata": {
    "ExecuteTime": {
     "end_time": "2024-04-23T07:29:55.660642800Z",
     "start_time": "2024-04-23T07:29:55.632283Z"
    }
   },
   "outputs": [],
   "source": []
  },
  {
   "cell_type": "markdown",
   "id": "33185140",
   "metadata": {},
   "source": [
    "# 3. Recurrent Neural Network (RNN) Section"
   ]
  },
  {
   "cell_type": "markdown",
   "id": "ff1a4177",
   "metadata": {},
   "source": [
    "### 3.1 Reshape data for RNN"
   ]
  },
  {
   "cell_type": "code",
   "execution_count": 62,
   "id": "ccece180",
   "metadata": {
    "ExecuteTime": {
     "end_time": "2024-04-23T07:29:55.663651200Z",
     "start_time": "2024-04-23T07:29:55.649292200Z"
    }
   },
   "outputs": [],
   "source": [
    "X_train_rnn = X_train_scaled.reshape(X_train_scaled.shape[0], 1, X_train_scaled.shape[1])\n",
    "X_test_rnn = X_test_scaled.reshape(X_test_scaled.shape[0], 1, X_test_scaled.shape[1])"
   ]
  },
  {
   "cell_type": "markdown",
   "id": "ad07bac6",
   "metadata": {},
   "source": [
    "### 3.2 Create RNN model"
   ]
  },
  {
   "cell_type": "code",
   "execution_count": 63,
   "id": "2283e533",
   "metadata": {
    "ExecuteTime": {
     "end_time": "2024-04-23T07:29:55.712965600Z",
     "start_time": "2024-04-23T07:29:55.664650800Z"
    }
   },
   "outputs": [
    {
     "name": "stderr",
     "output_type": "stream",
     "text": [
      "C:\\Users\\menbu\\PycharmProjects\\Music Genre Classification\\venv\\lib\\site-packages\\keras\\src\\layers\\rnn\\rnn.py:204: UserWarning: Do not pass an `input_shape`/`input_dim` argument to a layer. When using Sequential models, prefer using an `Input(shape)` object as the first layer in the model instead.\n",
      "  super().__init__(**kwargs)\n"
     ]
    }
   ],
   "source": [
    "rnn = models.Sequential([\n",
    "    layers.LSTM(64, return_sequences=True, input_shape=(1, X_train_scaled.shape[1])),\n",
    "    layers.LSTM(64),\n",
    "    layers.Dense(128, activation='relu'),\n",
    "    layers.Dropout(0.3),\n",
    "    layers.Dense(10, activation='softmax')\n",
    "])\n",
    "rnn.compile(optimizer='adam', loss='sparse_categorical_crossentropy', metrics=['accuracy'])"
   ]
  },
  {
   "cell_type": "markdown",
   "id": "3b765fa4",
   "metadata": {},
   "source": [
    "### 3.2.1 Alternative RNN architectures"
   ]
  },
  {
   "cell_type": "markdown",
   "id": "621203f9",
   "metadata": {},
   "source": [
    "### Simple RNN with Increased Depth"
   ]
  },
  {
   "cell_type": "code",
   "execution_count": 64,
   "id": "57388270",
   "metadata": {
    "ExecuteTime": {
     "end_time": "2024-04-23T07:29:55.763635600Z",
     "start_time": "2024-04-23T07:29:55.711968600Z"
    }
   },
   "outputs": [],
   "source": [
    "simple_rnn = models.Sequential([\n",
    "    layers.SimpleRNN(64, return_sequences=True, input_shape=(1, X_train_scaled.shape[1])),\n",
    "    layers.SimpleRNN(64, return_sequences=True),\n",
    "    layers.SimpleRNN(64),\n",
    "    layers.Dense(128, activation='relu'),\n",
    "    layers.Dropout(0.3),\n",
    "    layers.Dense(10, activation='softmax')\n",
    "])\n",
    "simple_rnn.compile(optimizer='adam', loss='sparse_categorical_crossentropy', metrics=['accuracy'])\n"
   ]
  },
  {
   "cell_type": "markdown",
   "id": "90fee102",
   "metadata": {},
   "source": [
    "### LSTM with Bidirectional Layers"
   ]
  },
  {
   "cell_type": "code",
   "execution_count": 65,
   "id": "98d6f09b",
   "metadata": {
    "ExecuteTime": {
     "end_time": "2024-04-23T07:29:55.833120100Z",
     "start_time": "2024-04-23T07:29:55.760639700Z"
    }
   },
   "outputs": [
    {
     "name": "stderr",
     "output_type": "stream",
     "text": [
      "C:\\Users\\menbu\\PycharmProjects\\Music Genre Classification\\venv\\lib\\site-packages\\keras\\src\\layers\\core\\wrapper.py:27: UserWarning: Do not pass an `input_shape`/`input_dim` argument to a layer. When using Sequential models, prefer using an `Input(shape)` object as the first layer in the model instead.\n",
      "  super().__init__(**kwargs)\n"
     ]
    }
   ],
   "source": [
    "bidirectional_lstm = models.Sequential([\n",
    "    layers.Bidirectional(layers.LSTM(64, return_sequences=True), input_shape=(1, X_train_scaled.shape[1])),\n",
    "    layers.Bidirectional(layers.LSTM(64)),\n",
    "    layers.Dense(128, activation='relu'),\n",
    "    layers.Dropout(0.3),\n",
    "    layers.Dense(10, activation='softmax')\n",
    "])\n",
    "bidirectional_lstm.compile(optimizer='adam', loss='sparse_categorical_crossentropy', metrics=['accuracy'])"
   ]
  },
  {
   "cell_type": "markdown",
   "id": "055c460c",
   "metadata": {},
   "source": [
    "### GRU with Layer Normalization"
   ]
  },
  {
   "cell_type": "code",
   "execution_count": 66,
   "id": "0a20305b",
   "metadata": {
    "ExecuteTime": {
     "end_time": "2024-04-23T07:29:55.887561100Z",
     "start_time": "2024-04-23T07:29:55.835129700Z"
    }
   },
   "outputs": [],
   "source": [
    "gru = models.Sequential([\n",
    "    layers.GRU(64, return_sequences=True, input_shape=(1, X_train_scaled.shape[1]), recurrent_initializer='glorot_uniform'),\n",
    "    layers.LayerNormalization(),\n",
    "    layers.GRU(64),\n",
    "    layers.LayerNormalization(),\n",
    "    layers.Dense(128, activation='relu'),\n",
    "    layers.Dropout(0.3),\n",
    "    layers.Dense(10, activation='softmax')\n",
    "])\n",
    "gru.compile(optimizer='adam', loss='sparse_categorical_crossentropy', metrics=['accuracy'])"
   ]
  },
  {
   "cell_type": "markdown",
   "id": "453a5aa1",
   "metadata": {},
   "source": [
    "### Stacked LSTM with Different Units"
   ]
  },
  {
   "cell_type": "code",
   "execution_count": 67,
   "id": "83356964",
   "metadata": {
    "ExecuteTime": {
     "end_time": "2024-04-23T07:29:55.945780100Z",
     "start_time": "2024-04-23T07:29:55.886560300Z"
    }
   },
   "outputs": [],
   "source": [
    "stacked_lstm = models.Sequential([\n",
    "    layers.LSTM(128, return_sequences=True, input_shape=(1, X_train_scaled.shape[1])),\n",
    "    layers.LSTM(64, return_sequences=True),\n",
    "    layers.LSTM(32),\n",
    "    layers.Dense(128, activation='relu'),\n",
    "    layers.Dropout(0.3),\n",
    "    layers.Dense(10, activation='softmax')\n",
    "])\n",
    "stacked_lstm.compile(optimizer='adam', loss='sparse_categorical_crossentropy', metrics=['accuracy'])"
   ]
  },
  {
   "cell_type": "code",
   "execution_count": 67,
   "id": "28784e34",
   "metadata": {
    "ExecuteTime": {
     "end_time": "2024-04-23T07:29:55.959364200Z",
     "start_time": "2024-04-23T07:29:55.943779500Z"
    }
   },
   "outputs": [],
   "source": []
  },
  {
   "cell_type": "code",
   "execution_count": 67,
   "id": "9c4ab2a7",
   "metadata": {
    "ExecuteTime": {
     "end_time": "2024-04-23T07:29:55.981773Z",
     "start_time": "2024-04-23T07:29:55.959364200Z"
    }
   },
   "outputs": [],
   "source": []
  },
  {
   "cell_type": "markdown",
   "id": "fd18ddf5",
   "metadata": {},
   "source": [
    "### 3.3 Train RNN"
   ]
  },
  {
   "cell_type": "markdown",
   "id": "1a7643a9",
   "metadata": {},
   "source": [
    "simply change the \"model\" parameter to change the model to train"
   ]
  },
  {
   "cell_type": "code",
   "execution_count": 68,
   "id": "a885c475",
   "metadata": {
    "scrolled": true,
    "ExecuteTime": {
     "end_time": "2024-04-23T07:30:01.807437600Z",
     "start_time": "2024-04-23T07:29:55.976178400Z"
    }
   },
   "outputs": [
    {
     "name": "stdout",
     "output_type": "stream",
     "text": [
      "Epoch 1/20\n",
      "\u001B[1m25/25\u001B[0m \u001B[32m━━━━━━━━━━━━━━━━━━━━\u001B[0m\u001B[37m\u001B[0m \u001B[1m4s\u001B[0m 19ms/step - accuracy: 0.2388 - loss: 2.2524 - val_accuracy: 0.3788 - val_loss: 1.9818\n",
      "Epoch 2/20\n",
      "\u001B[1m25/25\u001B[0m \u001B[32m━━━━━━━━━━━━━━━━━━━━\u001B[0m\u001B[37m\u001B[0m \u001B[1m0s\u001B[0m 4ms/step - accuracy: 0.4056 - loss: 1.8804 - val_accuracy: 0.4192 - val_loss: 1.5380\n",
      "Epoch 3/20\n",
      "\u001B[1m25/25\u001B[0m \u001B[32m━━━━━━━━━━━━━━━━━━━━\u001B[0m\u001B[37m\u001B[0m \u001B[1m0s\u001B[0m 4ms/step - accuracy: 0.4527 - loss: 1.4684 - val_accuracy: 0.5455 - val_loss: 1.2638\n",
      "Epoch 4/20\n",
      "\u001B[1m25/25\u001B[0m \u001B[32m━━━━━━━━━━━━━━━━━━━━\u001B[0m\u001B[37m\u001B[0m \u001B[1m0s\u001B[0m 4ms/step - accuracy: 0.5551 - loss: 1.2300 - val_accuracy: 0.6010 - val_loss: 1.0931\n",
      "Epoch 5/20\n",
      "\u001B[1m25/25\u001B[0m \u001B[32m━━━━━━━━━━━━━━━━━━━━\u001B[0m\u001B[37m\u001B[0m \u001B[1m0s\u001B[0m 4ms/step - accuracy: 0.6384 - loss: 1.0457 - val_accuracy: 0.6313 - val_loss: 1.0004\n",
      "Epoch 6/20\n",
      "\u001B[1m25/25\u001B[0m \u001B[32m━━━━━━━━━━━━━━━━━━━━\u001B[0m\u001B[37m\u001B[0m \u001B[1m0s\u001B[0m 4ms/step - accuracy: 0.7211 - loss: 0.8487 - val_accuracy: 0.6717 - val_loss: 0.9510\n",
      "Epoch 7/20\n",
      "\u001B[1m25/25\u001B[0m \u001B[32m━━━━━━━━━━━━━━━━━━━━\u001B[0m\u001B[37m\u001B[0m \u001B[1m0s\u001B[0m 5ms/step - accuracy: 0.7511 - loss: 0.7541 - val_accuracy: 0.6616 - val_loss: 0.9219\n",
      "Epoch 8/20\n",
      "\u001B[1m25/25\u001B[0m \u001B[32m━━━━━━━━━━━━━━━━━━━━\u001B[0m\u001B[37m\u001B[0m \u001B[1m0s\u001B[0m 3ms/step - accuracy: 0.7818 - loss: 0.6528 - val_accuracy: 0.6970 - val_loss: 0.8880\n",
      "Epoch 9/20\n",
      "\u001B[1m25/25\u001B[0m \u001B[32m━━━━━━━━━━━━━━━━━━━━\u001B[0m\u001B[37m\u001B[0m \u001B[1m0s\u001B[0m 5ms/step - accuracy: 0.8286 - loss: 0.5441 - val_accuracy: 0.7020 - val_loss: 0.8850\n",
      "Epoch 10/20\n",
      "\u001B[1m25/25\u001B[0m \u001B[32m━━━━━━━━━━━━━━━━━━━━\u001B[0m\u001B[37m\u001B[0m \u001B[1m0s\u001B[0m 4ms/step - accuracy: 0.8560 - loss: 0.4853 - val_accuracy: 0.7222 - val_loss: 0.8516\n",
      "Epoch 11/20\n",
      "\u001B[1m25/25\u001B[0m \u001B[32m━━━━━━━━━━━━━━━━━━━━\u001B[0m\u001B[37m\u001B[0m \u001B[1m0s\u001B[0m 3ms/step - accuracy: 0.8589 - loss: 0.4569 - val_accuracy: 0.7323 - val_loss: 0.8681\n",
      "Epoch 12/20\n",
      "\u001B[1m25/25\u001B[0m \u001B[32m━━━━━━━━━━━━━━━━━━━━\u001B[0m\u001B[37m\u001B[0m \u001B[1m0s\u001B[0m 3ms/step - accuracy: 0.9017 - loss: 0.3611 - val_accuracy: 0.7424 - val_loss: 0.8741\n",
      "Epoch 13/20\n",
      "\u001B[1m25/25\u001B[0m \u001B[32m━━━━━━━━━━━━━━━━━━━━\u001B[0m\u001B[37m\u001B[0m \u001B[1m0s\u001B[0m 3ms/step - accuracy: 0.9125 - loss: 0.2827 - val_accuracy: 0.7576 - val_loss: 0.8938\n",
      "Epoch 14/20\n",
      "\u001B[1m25/25\u001B[0m \u001B[32m━━━━━━━━━━━━━━━━━━━━\u001B[0m\u001B[37m\u001B[0m \u001B[1m0s\u001B[0m 4ms/step - accuracy: 0.9296 - loss: 0.2436 - val_accuracy: 0.7323 - val_loss: 0.9260\n",
      "Epoch 15/20\n",
      "\u001B[1m25/25\u001B[0m \u001B[32m━━━━━━━━━━━━━━━━━━━━\u001B[0m\u001B[37m\u001B[0m \u001B[1m0s\u001B[0m 3ms/step - accuracy: 0.9404 - loss: 0.2198 - val_accuracy: 0.7273 - val_loss: 0.9459\n",
      "Epoch 16/20\n",
      "\u001B[1m25/25\u001B[0m \u001B[32m━━━━━━━━━━━━━━━━━━━━\u001B[0m\u001B[37m\u001B[0m \u001B[1m0s\u001B[0m 3ms/step - accuracy: 0.9638 - loss: 0.1703 - val_accuracy: 0.7626 - val_loss: 0.9489\n",
      "Epoch 17/20\n",
      "\u001B[1m25/25\u001B[0m \u001B[32m━━━━━━━━━━━━━━━━━━━━\u001B[0m\u001B[37m\u001B[0m \u001B[1m0s\u001B[0m 3ms/step - accuracy: 0.9799 - loss: 0.1225 - val_accuracy: 0.7424 - val_loss: 1.0208\n",
      "Epoch 18/20\n",
      "\u001B[1m25/25\u001B[0m \u001B[32m━━━━━━━━━━━━━━━━━━━━\u001B[0m\u001B[37m\u001B[0m \u001B[1m0s\u001B[0m 3ms/step - accuracy: 0.9616 - loss: 0.1325 - val_accuracy: 0.7374 - val_loss: 1.0555\n",
      "Epoch 19/20\n",
      "\u001B[1m25/25\u001B[0m \u001B[32m━━━━━━━━━━━━━━━━━━━━\u001B[0m\u001B[37m\u001B[0m \u001B[1m0s\u001B[0m 3ms/step - accuracy: 0.9863 - loss: 0.0905 - val_accuracy: 0.7323 - val_loss: 1.0487\n",
      "Epoch 20/20\n",
      "\u001B[1m25/25\u001B[0m \u001B[32m━━━━━━━━━━━━━━━━━━━━\u001B[0m\u001B[37m\u001B[0m \u001B[1m0s\u001B[0m 3ms/step - accuracy: 0.9835 - loss: 0.0715 - val_accuracy: 0.7323 - val_loss: 1.0819\n",
      "7/7 - 0s - 3ms/step - accuracy: 0.7323 - loss: 1.0819\n",
      "RNN Test Accuracy: 0.7323\n"
     ]
    }
   ],
   "source": [
    "model = bidirectional_lstm # name of the model to be trained here\n",
    "\n",
    "history_rnn = model.fit(X_train_rnn, y_train, epochs=20, validation_data=(X_test_rnn, y_test))\n",
    "test_loss, test_acc = model.evaluate(X_test_rnn, y_test, verbose=2)\n",
    "print(f\"RNN Test Accuracy: {test_acc:.4f}\")"
   ]
  },
  {
   "cell_type": "code",
   "execution_count": 68,
   "id": "f2908628",
   "metadata": {
    "ExecuteTime": {
     "end_time": "2024-04-23T07:30:01.829371400Z",
     "start_time": "2024-04-23T07:30:01.803790100Z"
    }
   },
   "outputs": [],
   "source": []
  },
  {
   "cell_type": "markdown",
   "id": "47aad2d0",
   "metadata": {},
   "source": [
    "# 4. Hybrid models Section"
   ]
  },
  {
   "cell_type": "markdown",
   "id": "53f0689c",
   "metadata": {},
   "source": [
    "### CNN + LSTM Model (it's bad)"
   ]
  },
  {
   "cell_type": "code",
   "execution_count": 69,
   "id": "57894434",
   "metadata": {
    "ExecuteTime": {
     "end_time": "2024-04-23T07:30:01.880897Z",
     "start_time": "2024-04-23T07:30:01.820066200Z"
    }
   },
   "outputs": [],
   "source": [
    "hybrid_cnn_lstm_model = models.Sequential([\n",
    "    layers.Conv1D(32, kernel_size=3, activation='relu', input_shape=(X_train_scaled.shape[1], 1)),\n",
    "    layers.MaxPooling1D(2),\n",
    "    layers.Conv1D(64, kernel_size=3, activation='relu'),\n",
    "    layers.MaxPooling1D(2),\n",
    "    layers.LSTM(64, return_sequences=True),\n",
    "    layers.LSTM(64),\n",
    "    layers.Dense(64, activation='relu'),\n",
    "    layers.Dropout(0.5),\n",
    "    layers.Dense(10, activation='softmax')\n",
    "])\n",
    "\n",
    "hybrid_cnn_lstm_model.compile(optimizer='adam', loss='sparse_categorical_crossentropy', metrics=['accuracy'])\n"
   ]
  },
  {
   "cell_type": "markdown",
   "id": "14a70a05",
   "metadata": {},
   "source": [
    "### LSTM + Conv1D Model (slow to train and overfits)"
   ]
  },
  {
   "cell_type": "code",
   "execution_count": 70,
   "id": "77f53dd0",
   "metadata": {
    "ExecuteTime": {
     "end_time": "2024-04-23T07:30:01.928141300Z",
     "start_time": "2024-04-23T07:30:01.881898100Z"
    }
   },
   "outputs": [],
   "source": [
    "hybrid_lstm_cnn_model = models.Sequential([\n",
    "    layers.LSTM(64, return_sequences=True, input_shape=(X_train_scaled.shape[1], 1)),\n",
    "    layers.LSTM(64),\n",
    "    layers.Reshape((64, 1)),\n",
    "    layers.Conv1D(64, 3, activation='relu'),\n",
    "    layers.GlobalMaxPooling1D(),\n",
    "    layers.Dense(64, activation='relu'),\n",
    "    layers.Dropout(0.3),\n",
    "    layers.Dense(10, activation='softmax')\n",
    "])\n",
    "\n",
    "hybrid_lstm_cnn_model.compile(optimizer='adam', loss='sparse_categorical_crossentropy', metrics=['accuracy'])\n"
   ]
  },
  {
   "cell_type": "markdown",
   "id": "69b4354e",
   "metadata": {},
   "source": [
    "### CNN + GRU Model (overfits)"
   ]
  },
  {
   "cell_type": "code",
   "execution_count": 71,
   "id": "46aa9f7d",
   "metadata": {
    "ExecuteTime": {
     "end_time": "2024-04-23T07:30:01.975774200Z",
     "start_time": "2024-04-23T07:30:01.929140500Z"
    }
   },
   "outputs": [],
   "source": [
    "hybrid_cnn_gru_model = models.Sequential([\n",
    "    layers.Conv1D(32, kernel_size=3, activation='relu', input_shape=(X_train_scaled.shape[1], 1)),\n",
    "    layers.MaxPooling1D(2),\n",
    "    layers.Conv1D(64, kernel_size=3, activation='relu'),\n",
    "    layers.MaxPooling1D(2),\n",
    "    layers.GRU(64, return_sequences=True),\n",
    "    layers.GRU(64),\n",
    "    layers.Dense(64, activation='relu'),\n",
    "    layers.Dropout(0.5),\n",
    "    layers.Dense(10, activation='softmax')\n",
    "])\n",
    "\n",
    "hybrid_cnn_gru_model.compile(optimizer='adam', loss='sparse_categorical_crossentropy', metrics=['accuracy'])\n"
   ]
  },
  {
   "cell_type": "markdown",
   "id": "ad268d20",
   "metadata": {},
   "source": [
    "### Bidirectional LSTM + CNN Model (overfits)"
   ]
  },
  {
   "cell_type": "code",
   "execution_count": 72,
   "id": "604d8306",
   "metadata": {
    "ExecuteTime": {
     "end_time": "2024-04-23T07:30:02.052435Z",
     "start_time": "2024-04-23T07:30:01.977783600Z"
    }
   },
   "outputs": [],
   "source": [
    "hybrid_bidirectional_lstm_cnn_model = models.Sequential([\n",
    "    layers.Bidirectional(layers.LSTM(64, return_sequences=True), input_shape=(X_train_scaled.shape[1], 1)),\n",
    "    layers.Bidirectional(layers.LSTM(64)),\n",
    "    layers.Reshape((128, 1)),\n",
    "    layers.Conv1D(64, 3, activation='relu'),\n",
    "    layers.GlobalMaxPooling1D(),\n",
    "    layers.Dense(64, activation='relu'),\n",
    "    layers.Dropout(0.3),\n",
    "    layers.Dense(10, activation='softmax')\n",
    "])\n",
    "\n",
    "hybrid_bidirectional_lstm_cnn_model.compile(optimizer='adam', loss='sparse_categorical_crossentropy', metrics=['accuracy'])\n"
   ]
  },
  {
   "cell_type": "markdown",
   "id": "a2ed6579",
   "metadata": {},
   "source": [
    "### 4.1 Train hybrid models"
   ]
  },
  {
   "cell_type": "code",
   "execution_count": 73,
   "id": "11eb75b5",
   "metadata": {
    "scrolled": true,
    "ExecuteTime": {
     "end_time": "2024-04-23T07:30:12.508278200Z",
     "start_time": "2024-04-23T07:30:02.053442700Z"
    }
   },
   "outputs": [
    {
     "name": "stdout",
     "output_type": "stream",
     "text": [
      "Epoch 1/30\n",
      "\u001B[1m25/25\u001B[0m \u001B[32m━━━━━━━━━━━━━━━━━━━━\u001B[0m\u001B[37m\u001B[0m \u001B[1m3s\u001B[0m 21ms/step - accuracy: 0.1471 - loss: 2.2695 - val_accuracy: 0.2071 - val_loss: 2.0771\n",
      "Epoch 2/30\n",
      "\u001B[1m25/25\u001B[0m \u001B[32m━━━━━━━━━━━━━━━━━━━━\u001B[0m\u001B[37m\u001B[0m \u001B[1m0s\u001B[0m 10ms/step - accuracy: 0.2117 - loss: 2.0702 - val_accuracy: 0.1970 - val_loss: 1.9754\n",
      "Epoch 3/30\n",
      "\u001B[1m25/25\u001B[0m \u001B[32m━━━━━━━━━━━━━━━━━━━━\u001B[0m\u001B[37m\u001B[0m \u001B[1m0s\u001B[0m 10ms/step - accuracy: 0.2663 - loss: 1.9504 - val_accuracy: 0.2828 - val_loss: 1.8649\n",
      "Epoch 4/30\n",
      "\u001B[1m25/25\u001B[0m \u001B[32m━━━━━━━━━━━━━━━━━━━━\u001B[0m\u001B[37m\u001B[0m \u001B[1m0s\u001B[0m 10ms/step - accuracy: 0.2896 - loss: 1.8258 - val_accuracy: 0.3889 - val_loss: 1.7679\n",
      "Epoch 5/30\n",
      "\u001B[1m25/25\u001B[0m \u001B[32m━━━━━━━━━━━━━━━━━━━━\u001B[0m\u001B[37m\u001B[0m \u001B[1m0s\u001B[0m 10ms/step - accuracy: 0.3218 - loss: 1.7448 - val_accuracy: 0.3737 - val_loss: 1.7233\n",
      "Epoch 6/30\n",
      "\u001B[1m25/25\u001B[0m \u001B[32m━━━━━━━━━━━━━━━━━━━━\u001B[0m\u001B[37m\u001B[0m \u001B[1m0s\u001B[0m 10ms/step - accuracy: 0.3510 - loss: 1.7226 - val_accuracy: 0.3636 - val_loss: 1.6863\n",
      "Epoch 7/30\n",
      "\u001B[1m25/25\u001B[0m \u001B[32m━━━━━━━━━━━━━━━━━━━━\u001B[0m\u001B[37m\u001B[0m \u001B[1m0s\u001B[0m 10ms/step - accuracy: 0.3580 - loss: 1.7389 - val_accuracy: 0.3434 - val_loss: 1.7199\n",
      "Epoch 8/30\n",
      "\u001B[1m25/25\u001B[0m \u001B[32m━━━━━━━━━━━━━━━━━━━━\u001B[0m\u001B[37m\u001B[0m \u001B[1m0s\u001B[0m 10ms/step - accuracy: 0.3152 - loss: 1.7536 - val_accuracy: 0.3636 - val_loss: 1.7092\n",
      "Epoch 9/30\n",
      "\u001B[1m25/25\u001B[0m \u001B[32m━━━━━━━━━━━━━━━━━━━━\u001B[0m\u001B[37m\u001B[0m \u001B[1m0s\u001B[0m 10ms/step - accuracy: 0.3924 - loss: 1.6499 - val_accuracy: 0.4293 - val_loss: 1.6662\n",
      "Epoch 10/30\n",
      "\u001B[1m25/25\u001B[0m \u001B[32m━━━━━━━━━━━━━━━━━━━━\u001B[0m\u001B[37m\u001B[0m \u001B[1m0s\u001B[0m 11ms/step - accuracy: 0.4052 - loss: 1.6636 - val_accuracy: 0.4495 - val_loss: 1.6076\n",
      "Epoch 11/30\n",
      "\u001B[1m25/25\u001B[0m \u001B[32m━━━━━━━━━━━━━━━━━━━━\u001B[0m\u001B[37m\u001B[0m \u001B[1m0s\u001B[0m 10ms/step - accuracy: 0.4141 - loss: 1.5699 - val_accuracy: 0.4747 - val_loss: 1.5689\n",
      "Epoch 12/30\n",
      "\u001B[1m25/25\u001B[0m \u001B[32m━━━━━━━━━━━━━━━━━━━━\u001B[0m\u001B[37m\u001B[0m \u001B[1m0s\u001B[0m 10ms/step - accuracy: 0.4269 - loss: 1.5715 - val_accuracy: 0.4596 - val_loss: 1.5484\n",
      "Epoch 13/30\n",
      "\u001B[1m25/25\u001B[0m \u001B[32m━━━━━━━━━━━━━━━━━━━━\u001B[0m\u001B[37m\u001B[0m \u001B[1m0s\u001B[0m 10ms/step - accuracy: 0.4408 - loss: 1.5238 - val_accuracy: 0.4495 - val_loss: 1.5751\n",
      "Epoch 14/30\n",
      "\u001B[1m25/25\u001B[0m \u001B[32m━━━━━━━━━━━━━━━━━━━━\u001B[0m\u001B[37m\u001B[0m \u001B[1m0s\u001B[0m 10ms/step - accuracy: 0.4542 - loss: 1.4639 - val_accuracy: 0.4394 - val_loss: 1.4941\n",
      "Epoch 15/30\n",
      "\u001B[1m25/25\u001B[0m \u001B[32m━━━━━━━━━━━━━━━━━━━━\u001B[0m\u001B[37m\u001B[0m \u001B[1m0s\u001B[0m 10ms/step - accuracy: 0.4883 - loss: 1.4739 - val_accuracy: 0.4596 - val_loss: 1.4805\n",
      "Epoch 16/30\n",
      "\u001B[1m25/25\u001B[0m \u001B[32m━━━━━━━━━━━━━━━━━━━━\u001B[0m\u001B[37m\u001B[0m \u001B[1m0s\u001B[0m 10ms/step - accuracy: 0.4339 - loss: 1.5189 - val_accuracy: 0.5101 - val_loss: 1.4610\n",
      "Epoch 17/30\n",
      "\u001B[1m25/25\u001B[0m \u001B[32m━━━━━━━━━━━━━━━━━━━━\u001B[0m\u001B[37m\u001B[0m \u001B[1m0s\u001B[0m 10ms/step - accuracy: 0.4871 - loss: 1.4080 - val_accuracy: 0.4596 - val_loss: 1.4308\n",
      "Epoch 18/30\n",
      "\u001B[1m25/25\u001B[0m \u001B[32m━━━━━━━━━━━━━━━━━━━━\u001B[0m\u001B[37m\u001B[0m \u001B[1m0s\u001B[0m 10ms/step - accuracy: 0.4681 - loss: 1.4453 - val_accuracy: 0.4596 - val_loss: 1.4537\n",
      "Epoch 19/30\n",
      "\u001B[1m25/25\u001B[0m \u001B[32m━━━━━━━━━━━━━━━━━━━━\u001B[0m\u001B[37m\u001B[0m \u001B[1m0s\u001B[0m 10ms/step - accuracy: 0.5185 - loss: 1.3344 - val_accuracy: 0.5051 - val_loss: 1.4464\n",
      "Epoch 20/30\n",
      "\u001B[1m25/25\u001B[0m \u001B[32m━━━━━━━━━━━━━━━━━━━━\u001B[0m\u001B[37m\u001B[0m \u001B[1m0s\u001B[0m 11ms/step - accuracy: 0.5061 - loss: 1.3498 - val_accuracy: 0.4949 - val_loss: 1.4781\n",
      "Epoch 21/30\n",
      "\u001B[1m25/25\u001B[0m \u001B[32m━━━━━━━━━━━━━━━━━━━━\u001B[0m\u001B[37m\u001B[0m \u001B[1m0s\u001B[0m 10ms/step - accuracy: 0.5447 - loss: 1.2959 - val_accuracy: 0.5000 - val_loss: 1.4157\n",
      "Epoch 22/30\n",
      "\u001B[1m25/25\u001B[0m \u001B[32m━━━━━━━━━━━━━━━━━━━━\u001B[0m\u001B[37m\u001B[0m \u001B[1m0s\u001B[0m 10ms/step - accuracy: 0.5889 - loss: 1.2208 - val_accuracy: 0.4949 - val_loss: 1.4125\n",
      "Epoch 23/30\n",
      "\u001B[1m25/25\u001B[0m \u001B[32m━━━━━━━━━━━━━━━━━━━━\u001B[0m\u001B[37m\u001B[0m \u001B[1m0s\u001B[0m 10ms/step - accuracy: 0.5293 - loss: 1.3632 - val_accuracy: 0.5101 - val_loss: 1.3647\n",
      "Epoch 24/30\n",
      "\u001B[1m25/25\u001B[0m \u001B[32m━━━━━━━━━━━━━━━━━━━━\u001B[0m\u001B[37m\u001B[0m \u001B[1m0s\u001B[0m 10ms/step - accuracy: 0.5300 - loss: 1.2160 - val_accuracy: 0.5051 - val_loss: 1.4606\n",
      "Epoch 25/30\n",
      "\u001B[1m25/25\u001B[0m \u001B[32m━━━━━━━━━━━━━━━━━━━━\u001B[0m\u001B[37m\u001B[0m \u001B[1m0s\u001B[0m 10ms/step - accuracy: 0.5301 - loss: 1.3008 - val_accuracy: 0.4798 - val_loss: 1.3697\n",
      "Epoch 26/30\n",
      "\u001B[1m25/25\u001B[0m \u001B[32m━━━━━━━━━━━━━━━━━━━━\u001B[0m\u001B[37m\u001B[0m \u001B[1m0s\u001B[0m 10ms/step - accuracy: 0.5756 - loss: 1.2262 - val_accuracy: 0.5051 - val_loss: 1.3795\n",
      "Epoch 27/30\n",
      "\u001B[1m25/25\u001B[0m \u001B[32m━━━━━━━━━━━━━━━━━━━━\u001B[0m\u001B[37m\u001B[0m \u001B[1m0s\u001B[0m 10ms/step - accuracy: 0.5467 - loss: 1.2118 - val_accuracy: 0.5253 - val_loss: 1.3736\n",
      "Epoch 28/30\n",
      "\u001B[1m25/25\u001B[0m \u001B[32m━━━━━━━━━━━━━━━━━━━━\u001B[0m\u001B[37m\u001B[0m \u001B[1m0s\u001B[0m 10ms/step - accuracy: 0.6230 - loss: 1.1165 - val_accuracy: 0.4646 - val_loss: 1.5078\n",
      "Epoch 29/30\n",
      "\u001B[1m25/25\u001B[0m \u001B[32m━━━━━━━━━━━━━━━━━━━━\u001B[0m\u001B[37m\u001B[0m \u001B[1m0s\u001B[0m 10ms/step - accuracy: 0.5767 - loss: 1.2561 - val_accuracy: 0.5354 - val_loss: 1.5267\n",
      "Epoch 30/30\n",
      "\u001B[1m25/25\u001B[0m \u001B[32m━━━━━━━━━━━━━━━━━━━━\u001B[0m\u001B[37m\u001B[0m \u001B[1m0s\u001B[0m 11ms/step - accuracy: 0.6282 - loss: 1.1447 - val_accuracy: 0.5354 - val_loss: 1.3613\n",
      "7/7 - 0s - 4ms/step - accuracy: 0.5354 - loss: 1.3613\n",
      "RNN Test Accuracy: 0.5354\n"
     ]
    }
   ],
   "source": [
    "model = hybrid_cnn_lstm_model # name of the model to be trained here\n",
    "\n",
    "history_hybrid = model.fit(X_train_scaled, y_train, epochs=30, validation_data=(X_test_scaled, y_test))\n",
    "test_loss, test_acc = model.evaluate(X_test_scaled, y_test, verbose=2)\n",
    "print(f\"RNN Test Accuracy: {test_acc:.4f}\")"
   ]
  },
  {
   "cell_type": "code",
   "execution_count": 73,
   "id": "12f5764b",
   "metadata": {
    "ExecuteTime": {
     "end_time": "2024-04-23T07:30:12.532958500Z",
     "start_time": "2024-04-23T07:30:12.508278200Z"
    }
   },
   "outputs": [],
   "source": []
  },
  {
   "cell_type": "code",
   "execution_count": 73,
   "id": "46d0d4e8",
   "metadata": {
    "ExecuteTime": {
     "end_time": "2024-04-23T07:30:12.544551600Z",
     "start_time": "2024-04-23T07:30:12.523901200Z"
    }
   },
   "outputs": [],
   "source": []
  },
  {
   "cell_type": "markdown",
   "id": "e0a2db0a",
   "metadata": {},
   "source": [
    "# 5. All Models"
   ]
  },
  {
   "cell_type": "code",
   "execution_count": 74,
   "id": "4a95fe47",
   "metadata": {
    "ExecuteTime": {
     "end_time": "2024-04-23T07:31:25.926149800Z",
     "start_time": "2024-04-23T07:30:12.547557300Z"
    }
   },
   "outputs": [
    {
     "name": "stdout",
     "output_type": "stream",
     "text": [
      "Training Fully Connected Neural Network...\n",
      "Fully Connected Neural Network Test Accuracy: 0.7121\n",
      "Training Deep and Wide FCNN...\n",
      "Deep and Wide FCNN Test Accuracy: 0.7323\n",
      "Training Shallow FCNN...\n",
      "Shallow FCNN Test Accuracy: 0.6667\n",
      "Training Batch Normalized FCNN...\n",
      "Batch Normalized FCNN Test Accuracy: 0.7475\n",
      "Training FCNN with Alternative Activations...\n",
      "FCNN with Alternative Activations Test Accuracy: 0.7323\n",
      "Training Regularized FCNN...\n",
      "Regularized FCNN Test Accuracy: 0.6869\n",
      "Training Basic CNN...\n",
      "Basic CNN Test Accuracy: 0.6869\n",
      "Training Deep CNN...\n",
      "Deep CNN Test Accuracy: 0.5960\n",
      "Training Batch Normalized CNN...\n",
      "Batch Normalized CNN Test Accuracy: 0.7222\n",
      "Training Dilated CNN...\n",
      "Dilated CNN Test Accuracy: 0.7071\n",
      "Training Inception CNN...\n",
      "Inception CNN Test Accuracy: 0.7121\n",
      "Training Lightweight CNN...\n",
      "Lightweight CNN Test Accuracy: 0.6818\n",
      "Training Basic RNN...\n",
      "Basic RNN Test Accuracy: 0.6869\n",
      "Training Simple RNN with Increased Depth...\n",
      "Simple RNN with Increased Depth Test Accuracy: 0.7020\n",
      "Training Bidirectional LSTM...\n",
      "Bidirectional LSTM Test Accuracy: 0.7374\n",
      "Training GRU with Layer Normalization...\n",
      "GRU with Layer Normalization Test Accuracy: 0.7323\n",
      "Training Stacked LSTM...\n",
      "Stacked LSTM Test Accuracy: 0.6717\n",
      "Training Hybrid CNN-LSTM...\n",
      "Hybrid CNN-LSTM Test Accuracy: 0.5455\n",
      "Training Hybrid LSTM-CNN...\n",
      "Hybrid LSTM-CNN Test Accuracy: 0.3333\n",
      "Training Hybrid CNN-GRU...\n",
      "Hybrid CNN-GRU Test Accuracy: 0.4899\n",
      "Training Hybrid Bidirectional LSTM-CNN...\n",
      "Hybrid Bidirectional LSTM-CNN Test Accuracy: 0.4091\n",
      "Models ranked by test accuracy:\n",
      "Batch Normalized FCNN: 0.7475\n",
      "Bidirectional LSTM: 0.7374\n",
      "Deep and Wide FCNN: 0.7323\n",
      "FCNN with Alternative Activations: 0.7323\n",
      "GRU with Layer Normalization: 0.7323\n",
      "Batch Normalized CNN: 0.7222\n",
      "Fully Connected Neural Network: 0.7121\n",
      "Inception CNN: 0.7121\n",
      "Dilated CNN: 0.7071\n",
      "Simple RNN with Increased Depth: 0.7020\n",
      "Regularized FCNN: 0.6869\n",
      "Basic CNN: 0.6869\n",
      "Basic RNN: 0.6869\n",
      "Lightweight CNN: 0.6818\n",
      "Stacked LSTM: 0.6717\n",
      "Shallow FCNN: 0.6667\n",
      "Deep CNN: 0.5960\n",
      "Hybrid CNN-LSTM: 0.5455\n",
      "Hybrid CNN-GRU: 0.4899\n",
      "Hybrid Bidirectional LSTM-CNN: 0.4091\n",
      "Hybrid LSTM-CNN: 0.3333\n"
     ]
    }
   ],
   "source": [
    "# List of all models to be trained with their corresponding data reshaping requirements\n",
    "models_to_train = [\n",
    "    {'model': fcnn, 'data': (X_train_scaled, X_test_scaled), 'name': 'Fully Connected Neural Network'},\n",
    "    {'model': deep_wide_fcnn, 'data': (X_train_scaled, X_test_scaled), 'name': 'Deep and Wide FCNN'},\n",
    "    {'model': shallow_fcnn, 'data': (X_train_scaled, X_test_scaled), 'name': 'Shallow FCNN'},\n",
    "    {'model': bn_fcnn, 'data': (X_train_scaled, X_test_scaled), 'name': 'Batch Normalized FCNN'},\n",
    "    {'model': alt_act_fcnn, 'data': (X_train_scaled, X_test_scaled), 'name': 'FCNN with Alternative Activations'},\n",
    "    {'model': reg_fcnn, 'data': (X_train_scaled, X_test_scaled), 'name': 'Regularized FCNN'},\n",
    "    {'model': cnn, 'data': (X_train_cnn, X_test_cnn), 'name': 'Basic CNN'},\n",
    "    {'model': deep_cnn, 'data': (X_train_cnn, X_test_cnn), 'name': 'Deep CNN'},\n",
    "    {'model': bn_cnn, 'data': (X_train_cnn, X_test_cnn), 'name': 'Batch Normalized CNN'},\n",
    "    {'model': dilated_cnn, 'data': (X_train_cnn, X_test_cnn), 'name': 'Dilated CNN'},\n",
    "    {'model': inception_cnn, 'data': (X_train_cnn, X_test_cnn), 'name': 'Inception CNN'},\n",
    "    {'model': lightweight_cnn, 'data': (X_train_cnn, X_test_cnn), 'name': 'Lightweight CNN'},\n",
    "    {'model': rnn, 'data': (X_train_rnn, X_test_rnn), 'name': 'Basic RNN'},\n",
    "    {'model': simple_rnn, 'data': (X_train_rnn, X_test_rnn), 'name': 'Simple RNN with Increased Depth'},\n",
    "    {'model': bidirectional_lstm, 'data': (X_train_rnn, X_test_rnn), 'name': 'Bidirectional LSTM'},\n",
    "    {'model': gru, 'data': (X_train_rnn, X_test_rnn), 'name': 'GRU with Layer Normalization'},\n",
    "    {'model': stacked_lstm, 'data': (X_train_rnn, X_test_rnn), 'name': 'Stacked LSTM'},\n",
    "    {'model': hybrid_cnn_lstm_model, 'data': (X_train_scaled, X_test_scaled), 'name': 'Hybrid CNN-LSTM'},\n",
    "    {'model': hybrid_lstm_cnn_model, 'data': (X_train_scaled, X_test_scaled), 'name': 'Hybrid LSTM-CNN'},\n",
    "    {'model': hybrid_cnn_gru_model, 'data': (X_train_scaled, X_test_scaled), 'name': 'Hybrid CNN-GRU'},\n",
    "    {'model': hybrid_bidirectional_lstm_cnn_model, 'data': (X_train_scaled, X_test_scaled), 'name': 'Hybrid Bidirectional LSTM-CNN'}\n",
    "]\n",
    "\n",
    "results = []\n",
    "\n",
    "# Training and evaluating each model\n",
    "for entry in models_to_train:\n",
    "    model = entry['model']\n",
    "    X_train, X_test = entry['data']\n",
    "    y_train, y_test = y_train, y_test  # Assuming y_train and y_test are defined globally\n",
    "\n",
    "    print(f\"Training {entry['name']}...\")\n",
    "    history = model.fit(X_train, y_train, epochs=10, validation_data=(X_test, y_test), verbose=0)\n",
    "    test_loss, test_acc = model.evaluate(X_test, y_test, verbose=0)\n",
    "    print(f\"{entry['name']} Test Accuracy: {test_acc:.4f}\")\n",
    "\n",
    "    results.append({'model': entry['name'], 'accuracy': test_acc})\n",
    "\n",
    "# Sorting results by accuracy\n",
    "sorted_results = sorted(results, key=lambda x: x['accuracy'], reverse=True)\n",
    "\n",
    "# Displaying sorted results\n",
    "print(\"Models ranked by test accuracy:\")\n",
    "for result in sorted_results:\n",
    "    print(f\"{result['model']}: {result['accuracy']:.4f}\")\n"
   ]
  }
 ],
 "metadata": {
  "kernelspec": {
   "display_name": "Python 3 (ipykernel)",
   "language": "python",
   "name": "python3"
  },
  "language_info": {
   "codemirror_mode": {
    "name": "ipython",
    "version": 3
   },
   "file_extension": ".py",
   "mimetype": "text/x-python",
   "name": "python",
   "nbconvert_exporter": "python",
   "pygments_lexer": "ipython3",
   "version": "3.10.8"
  }
 },
 "nbformat": 4,
 "nbformat_minor": 5
}
