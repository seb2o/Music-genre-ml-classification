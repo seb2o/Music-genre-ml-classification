{
 "cells": [
  {
   "cell_type": "code",
   "outputs": [],
   "source": [
    "import utils\n",
    "import pandas as pd\n",
    "import classifiers\n",
    "import evaluations"
   ],
   "metadata": {
    "collapsed": false
   },
   "id": "34c232be4da0295b",
   "execution_count": null
  },
  {
   "cell_type": "code",
   "outputs": [],
   "source": [
    "df5s, df10s, df30s = utils.task4_df()"
   ],
   "metadata": {
    "collapsed": false
   },
   "id": "50a99290c9c09d15",
   "execution_count": null
  },
  {
   "cell_type": "code",
   "outputs": [],
   "source": [
    "whole_df = pd.concat((df5s, df10s, df30s), ignore_index=True)"
   ],
   "metadata": {
    "collapsed": false
   },
   "id": "1069b454ddfceb70",
   "execution_count": null
  },
  {
   "cell_type": "code",
   "outputs": [],
   "source": [
    "X_train, y_train, X_val, y_val = utils.train_val_split(whole_df)"
   ],
   "metadata": {
    "collapsed": false
   },
   "id": "5ddac8c34ed036e1",
   "execution_count": null
  },
  {
   "cell_type": "code",
   "outputs": [],
   "source": [
    "y_val_pred = classifiers.tensorflow_fcnn(X_train, y_train, X_val, y_val)"
   ],
   "metadata": {
    "collapsed": false
   },
   "id": "9f9864c5b85875e2",
   "execution_count": null
  },
  {
   "cell_type": "code",
   "outputs": [],
   "source": [
    "evaluations.conf_matrix(y_val_pred, y_val)"
   ],
   "metadata": {
    "collapsed": false
   },
   "id": "258204263027145f",
   "execution_count": null
  },
  {
   "cell_type": "code",
   "outputs": [],
   "source": [
    "evaluations.distribution(y_val_pred, y_val)"
   ],
   "metadata": {
    "collapsed": false
   },
   "id": "bc3816157109be13",
   "execution_count": null
  },
  {
   "cell_type": "code",
   "outputs": [],
   "source": [
    "y_val_pred = classifiers.sklearn_rf(X_train, y_train, X_val, y_val)"
   ],
   "metadata": {
    "collapsed": false
   },
   "id": "72a57c3ddc222e22",
   "execution_count": null
  },
  {
   "cell_type": "code",
   "outputs": [],
   "source": [
    "evaluations.conf_matrix(y_val_pred, y_val)"
   ],
   "metadata": {
    "collapsed": false
   },
   "id": "29b3035b78633953",
   "execution_count": null
  },
  {
   "cell_type": "code",
   "outputs": [],
   "source": [
    "evaluations.distribution(y_val_pred, y_val)\n"
   ],
   "metadata": {
    "collapsed": false
   },
   "id": "43bec6d314f41294",
   "execution_count": null
  }
 ],
 "metadata": {
  "kernelspec": {
   "display_name": "Python 3",
   "language": "python",
   "name": "python3"
  },
  "language_info": {
   "codemirror_mode": {
    "name": "ipython",
    "version": 2
   },
   "file_extension": ".py",
   "mimetype": "text/x-python",
   "name": "python",
   "nbconvert_exporter": "python",
   "pygments_lexer": "ipython2",
   "version": "2.7.6"
  }
 },
 "nbformat": 4,
 "nbformat_minor": 5
}
