{
 "cells": [
  {
   "cell_type": "code",
   "outputs": [],
   "source": [
    "import matplotlib.pyplot as plt\n",
    "import numpy as np\n",
    "import utils\n",
    "import pandas as pd\n",
    "import classifiers\n",
    "import evaluations"
   ],
   "metadata": {
    "collapsed": false
   },
   "id": "34c232be4da0295b",
   "execution_count": null
  },
  {
   "cell_type": "code",
   "outputs": [],
   "source": [
    "df5s, df10s, df30s = utils.task4_df()"
   ],
   "metadata": {
    "collapsed": false
   },
   "id": "50a99290c9c09d15",
   "execution_count": null
  },
  {
   "cell_type": "code",
   "outputs": [],
   "source": [
    "# whole_df = pd.concat((df5s, df10s, df30s), ignore_index=True)\n",
    "df = df5s\n",
    "df = df.rename(columns={\"Track ID\":\"TrackID\"})\n",
    "df"
   ],
   "metadata": {
    "collapsed": false
   },
   "id": "1069b454ddfceb70",
   "execution_count": null
  },
  {
   "cell_type": "markdown",
   "source": [
    "\n",
    "split into train and test\n",
    "normalize train and test columns that are supposed to be normalized\n",
    "\n",
    "\n",
    "1. groupby track\n",
    "2. shuffle tracks\n",
    "3. extract true value for each track :\n",
    "    1. the last column value is the true target. for each row, return row[0][-1]\n",
    "    2. remove the last column : for sample in row: drop sample[-1]\n",
    "4. we now have X_train, X_test and y_train, y_test\n",
    "\n",
    "X_train is a (900,6,60) numpy array with each row a track, and each track 6 samples, each sample being 60 features\n",
    "y_train is a (900,) array containing the genre of each track\n",
    "thus the model should take as input 6 samples of 60 features of a track and output a single number\n",
    "\n",
    "\n",
    "\n",
    "    \n",
    "    "
   ],
   "metadata": {
    "collapsed": false
   },
   "id": "80af263314fc6735"
  },
  {
   "cell_type": "code",
   "outputs": [],
   "source": [
    "isTrain = df['Type'] == 'Train'\n",
    "print(np.unique(isTrain, return_counts=True))\n",
    "dfTrain = df[isTrain].drop(columns='Type')\n",
    "dfTest = df[~isTrain].drop(columns='Type')\n",
    "columns_to_scale = dfTrain.columns.difference(['GenreID', 'TrackID'])\n",
    "dfTrain[columns_to_scale] = (dfTrain[columns_to_scale] - dfTrain[columns_to_scale].mean())/dfTrain[columns_to_scale].std()\n",
    "dfTest[columns_to_scale] = (dfTest[columns_to_scale] - dfTrain[columns_to_scale].mean())/dfTrain[columns_to_scale].std()"
   ],
   "metadata": {
    "collapsed": false
   },
   "id": "2874d25afad7bed6",
   "execution_count": null
  },
  {
   "cell_type": "code",
   "outputs": [
    {
     "data": {
      "text/plain": "(792, 6, 63)"
     },
     "execution_count": 211,
     "metadata": {},
     "output_type": "execute_result"
    }
   ],
   "source": [
    "train_by_track = dfTrain\\\n",
    "    .groupby('TrackID')\\\n",
    "    .apply(lambda group_df:\n",
    "                (group_df.iloc[:, :-1].values, group_df.iloc[:, -1].values),\n",
    "           include_groups=False)\\\n",
    "    .sample(frac=1)\n",
    "x_train = np.stack(train_by_track.apply(lambda x: x[0]))\n",
    "y_train = train_by_track.apply(lambda x: x[1][0])\n",
    "x_train.shape"
   ],
   "metadata": {
    "collapsed": false,
    "ExecuteTime": {
     "end_time": "2024-04-18T12:30:51.068814500Z",
     "start_time": "2024-04-18T12:30:50.085016200Z"
    }
   },
   "id": "2477e2bba0526b14",
   "execution_count": 211
  },
  {
   "cell_type": "code",
   "outputs": [],
   "source": [],
   "metadata": {
    "collapsed": false
   },
   "id": "983c5bfa20bc57"
  }
 ],
 "metadata": {
  "kernelspec": {
   "display_name": "Python 3",
   "language": "python",
   "name": "python3"
  },
  "language_info": {
   "codemirror_mode": {
    "name": "ipython",
    "version": 2
   },
   "file_extension": ".py",
   "mimetype": "text/x-python",
   "name": "python",
   "nbconvert_exporter": "python",
   "pygments_lexer": "ipython2",
   "version": "2.7.6"
  }
 },
 "nbformat": 4,
 "nbformat_minor": 5
}
