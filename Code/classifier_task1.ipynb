{
 "cells": [
  {
   "cell_type": "code",
   "outputs": [],
   "source": [
    "import utils as utils"
   ],
   "metadata": {
    "collapsed": false
   },
   "id": "34c232be4da0295b",
   "execution_count": null
  },
  {
   "cell_type": "markdown",
   "source": [
    "# Task 1 : KNN with 4 features"
   ],
   "metadata": {
    "collapsed": false
   },
   "id": "5ea8c3268a1b0c7d"
  },
  {
   "cell_type": "markdown",
   "source": [
    "### loading 30s dataset"
   ],
   "metadata": {
    "collapsed": false
   },
   "id": "770e0e3d7b51861d"
  },
  {
   "cell_type": "code",
   "outputs": [],
   "source": [
    "df = utils.task1_df()"
   ],
   "metadata": {
    "collapsed": false
   },
   "id": "d62172f5fe949406",
   "execution_count": null
  },
  {
   "cell_type": "markdown",
   "source": [
    " Separating Training and Validation sets"
   ],
   "metadata": {
    "collapsed": false
   },
   "id": "78470c1a3056a3c2"
  },
  {
   "cell_type": "code",
   "outputs": [],
   "source": [
    "isTrain = df['Type'] == 'Train'\n",
    "dfTrain = df[isTrain].drop(columns='Type')\n",
    "dfVal = df[~isTrain].drop(columns='Type')"
   ],
   "metadata": {
    "collapsed": false
   },
   "id": "9b18f9e06eae3999",
   "execution_count": null
  },
  {
   "cell_type": "markdown",
   "source": [
    " Separating features from target"
   ],
   "metadata": {
    "collapsed": false
   },
   "id": "7a6cb4b27d711981"
  },
  {
   "cell_type": "code",
   "outputs": [],
   "source": [
    "X_train = dfTrain.drop(columns='GenreID')\n",
    "y_train = dfTrain['GenreID']\n",
    "X_val = dfVal.drop(columns='GenreID')\n",
    "y_val = dfVal['GenreID']"
   ],
   "metadata": {
    "collapsed": false
   },
   "id": "2a9606a63e14c00c",
   "execution_count": null
  },
  {
   "cell_type": "markdown",
   "source": [
    "begin knn training"
   ],
   "metadata": {
    "collapsed": false
   },
   "id": "4d22a7edb0673a6f"
  },
  {
   "cell_type": "code",
   "outputs": [],
   "source": [
    "# TODO import my knn and train with it"
   ],
   "metadata": {
    "collapsed": false
   },
   "id": "180557143fd338fb"
  }
 ],
 "metadata": {
  "kernelspec": {
   "display_name": "Python 3",
   "language": "python",
   "name": "python3"
  },
  "language_info": {
   "codemirror_mode": {
    "name": "ipython",
    "version": 2
   },
   "file_extension": ".py",
   "mimetype": "text/x-python",
   "name": "python",
   "nbconvert_exporter": "python",
   "pygments_lexer": "ipython2",
   "version": "2.7.6"
  }
 },
 "nbformat": 4,
 "nbformat_minor": 5
}
